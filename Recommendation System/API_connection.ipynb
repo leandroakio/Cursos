{
 "cells": [
  {
   "cell_type": "markdown",
   "id": "449ada4b",
   "metadata": {},
   "source": [
    "this file is interface with the user to simulate the rent price by giving the characteristics of the apartment.<br> connects the model to the API\n",
    "(area, rooms, bathroom, parking_spaces,floor,animal,furniture,hoa,property_tax)"
   ]
  },
  {
   "cell_type": "code",
   "execution_count": 8,
   "id": "8de10ac8",
   "metadata": {},
   "outputs": [],
   "source": [
    "import requests\n"
   ]
  },
  {
   "cell_type": "code",
   "execution_count": 14,
   "id": "1b51ed0d",
   "metadata": {},
   "outputs": [
    {
     "data": {
      "text/plain": [
       "{'Rent_value': '[9220.7544123]'}"
      ]
     },
     "execution_count": 14,
     "metadata": {},
     "output_type": "execute_result"
    }
   ],
   "source": [
    "Url = 'http://127.0.0.1:5000/API_Preditivo/550;4;5;3;0;1;0;0;800'\n",
    "\n",
    "#Acessing the connection\n",
    "Consulta = requests.get(Url)\n",
    "\n",
    "#Searching the information\n",
    "Resposta = Consulta.json()\n",
    "\n",
    "#Return of API\n",
    "Resposta"
   ]
  },
  {
   "cell_type": "code",
   "execution_count": null,
   "id": "d1292665",
   "metadata": {},
   "outputs": [],
   "source": []
  }
 ],
 "metadata": {
  "kernelspec": {
   "display_name": "Python 3 (ipykernel)",
   "language": "python",
   "name": "python3"
  },
  "language_info": {
   "codemirror_mode": {
    "name": "ipython",
    "version": 3
   },
   "file_extension": ".py",
   "mimetype": "text/x-python",
   "name": "python",
   "nbconvert_exporter": "python",
   "pygments_lexer": "ipython3",
   "version": "3.9.12"
  }
 },
 "nbformat": 4,
 "nbformat_minor": 5
}

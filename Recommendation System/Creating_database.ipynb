{
 "cells": [
  {
   "cell_type": "markdown",
   "id": "f59cc0e9",
   "metadata": {},
   "source": [
    "# This notebook is to check the usage of the API"
   ]
  },
  {
   "cell_type": "code",
   "execution_count": 1,
   "id": "669ed9d0",
   "metadata": {},
   "outputs": [],
   "source": [
    "#loading the library\n",
    "import sqlite3"
   ]
  },
  {
   "cell_type": "code",
   "execution_count": 2,
   "id": "4fe4010a",
   "metadata": {},
   "outputs": [],
   "source": [
    "# creating the database (if it exists, will connect, else, create the database)\n",
    "Connection = sqlite3.connect('Database_API.db')"
   ]
  },
  {
   "cell_type": "code",
   "execution_count": 3,
   "id": "cb84517d",
   "metadata": {},
   "outputs": [],
   "source": [
    "# creating the cursor to the database\n",
    "Cursor = Connection.cursor()"
   ]
  },
  {
   "cell_type": "markdown",
   "id": "d66f4362",
   "metadata": {},
   "source": [
    "# query to create the table\n",
    "Query_createdb = '''\n",
    "CREATE TABLE Log_API(\n",
    "    id INTEGER NOT NULL PRIMARY KEY AUTOINCREMENT,\n",
    "    Input TEXT,\n",
    "    Login TEXT,\n",
    "    Logout TEXT,\n",
    "    Processamento TEXT\n",
    ")\n",
    "'''\n",
    "\n",
    "Cursor.execute(Query_createdb)"
   ]
  },
  {
   "cell_type": "markdown",
   "id": "04e58d37",
   "metadata": {},
   "source": [
    "# query to insert the first values to test the db\n",
    "Query_insert = '''\n",
    "    INSERT INTO Log_API(Input, Login, Logout, Processamento)\n",
    "    VALUES('480;4;5;3;0;1;0;0;742', '01/01/2000 19:00:01', '01/01/2000 19:00:02', '00:01')\n",
    "'''\n",
    "Cursor.execute(Query_insert)\n",
    "\n",
    "#commit\n",
    "Connection.commit()"
   ]
  },
  {
   "cell_type": "code",
   "execution_count": 6,
   "id": "3918f1ed",
   "metadata": {},
   "outputs": [
    {
     "data": {
      "text/plain": [
       "[(1,\n",
       "  '480;4;5;3;0;1;0;0;742',\n",
       "  '01/01/2000 19:00:01',\n",
       "  '01/01/2000 19:00:02',\n",
       "  '00:01'),\n",
       " (2,\n",
       "  '480;4;5;3;0;1;0;0;742',\n",
       "  '01/01/2000 19:00:01',\n",
       "  '01/01/2000 19:00:02',\n",
       "  '00:01'),\n",
       " (3,\n",
       "  '<built-in function input>',\n",
       "  '2022-11-05 23:47:12.371858',\n",
       "  '2022-11-05 23:47:12.381174',\n",
       "  '0:00:00.009316'),\n",
       " (4,\n",
       "  '<built-in function input>',\n",
       "  '2022-11-05 23:50:08.492223',\n",
       "  '2022-11-05 23:50:08.500538',\n",
       "  '0:00:00.008315')]"
      ]
     },
     "execution_count": 6,
     "metadata": {},
     "output_type": "execute_result"
    }
   ],
   "source": [
    "# query to check the usage of the API\n",
    "Query_consulta = '''\n",
    "SELECT * FROM Log_API\n",
    "\n",
    "'''\n",
    "# executing the query\n",
    "Cursor.execute(Query_consulta).fetchall()\n"
   ]
  },
  {
   "cell_type": "code",
   "execution_count": null,
   "id": "d38fd637",
   "metadata": {},
   "outputs": [],
   "source": []
  }
 ],
 "metadata": {
  "kernelspec": {
   "display_name": "Python 3 (ipykernel)",
   "language": "python",
   "name": "python3"
  },
  "language_info": {
   "codemirror_mode": {
    "name": "ipython",
    "version": 3
   },
   "file_extension": ".py",
   "mimetype": "text/x-python",
   "name": "python",
   "nbconvert_exporter": "python",
   "pygments_lexer": "ipython3",
   "version": "3.9.12"
  }
 },
 "nbformat": 4,
 "nbformat_minor": 5
}

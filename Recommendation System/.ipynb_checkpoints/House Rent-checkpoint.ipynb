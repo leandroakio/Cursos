{
 "cells": [
  {
   "cell_type": "markdown",
   "id": "363a859e",
   "metadata": {},
   "source": [
    "### The goal of this project is to calculate the rent value of a house based on its features and location."
   ]
  },
  {
   "cell_type": "code",
   "execution_count": 1,
   "id": "fb4ebd6b",
   "metadata": {},
   "outputs": [],
   "source": [
    "#importing libraries\n",
    "import pandas as pd\n",
    "import numpy as np\n",
    "import matplotlib.pyplot as plt\n",
    "import seaborn as sns\n",
    "import warnings\n",
    "warnings.filterwarnings('ignore')\n",
    "\n",
    "#configuring pandas\n",
    "pd.set_option('display.max_rows',200)\n",
    "pd.set_option('display.max_columns',100)\n",
    "#configuring matplotlib\n",
    "plt.rcParams['figure.figsize']=(15,6)\n",
    "plt.style.use('seaborn-darkgrid')"
   ]
  },
  {
   "cell_type": "markdown",
   "id": "0575d7b3",
   "metadata": {},
   "source": [
    "### Exploring data"
   ]
  },
  {
   "cell_type": "code",
   "execution_count": 2,
   "id": "82c1d9df",
   "metadata": {},
   "outputs": [],
   "source": [
    "Base_Dados = pd.read_csv('house_data.csv')"
   ]
  },
  {
   "cell_type": "code",
   "execution_count": 3,
   "id": "a0f922e4",
   "metadata": {},
   "outputs": [
    {
     "data": {
      "text/plain": [
       "(10692, 13)"
      ]
     },
     "execution_count": 3,
     "metadata": {},
     "output_type": "execute_result"
    }
   ],
   "source": [
    "Base_Dados.shape"
   ]
  },
  {
   "cell_type": "code",
   "execution_count": 4,
   "id": "17797fa2",
   "metadata": {},
   "outputs": [
    {
     "data": {
      "text/html": [
       "<div>\n",
       "<style scoped>\n",
       "    .dataframe tbody tr th:only-of-type {\n",
       "        vertical-align: middle;\n",
       "    }\n",
       "\n",
       "    .dataframe tbody tr th {\n",
       "        vertical-align: top;\n",
       "    }\n",
       "\n",
       "    .dataframe thead th {\n",
       "        text-align: right;\n",
       "    }\n",
       "</style>\n",
       "<table border=\"1\" class=\"dataframe\">\n",
       "  <thead>\n",
       "    <tr style=\"text-align: right;\">\n",
       "      <th></th>\n",
       "      <th>city</th>\n",
       "      <th>area</th>\n",
       "      <th>rooms</th>\n",
       "      <th>bathroom</th>\n",
       "      <th>parking spaces</th>\n",
       "      <th>floor</th>\n",
       "      <th>animal</th>\n",
       "      <th>furniture</th>\n",
       "      <th>hoa (R$)</th>\n",
       "      <th>rent amount (R$)</th>\n",
       "      <th>property tax (R$)</th>\n",
       "      <th>fire insurance (R$)</th>\n",
       "      <th>total (R$)</th>\n",
       "    </tr>\n",
       "  </thead>\n",
       "  <tbody>\n",
       "    <tr>\n",
       "      <th>0</th>\n",
       "      <td>São Paulo</td>\n",
       "      <td>70</td>\n",
       "      <td>2</td>\n",
       "      <td>1</td>\n",
       "      <td>1</td>\n",
       "      <td>7</td>\n",
       "      <td>acept</td>\n",
       "      <td>furnished</td>\n",
       "      <td>2065</td>\n",
       "      <td>3300</td>\n",
       "      <td>211</td>\n",
       "      <td>42</td>\n",
       "      <td>5618</td>\n",
       "    </tr>\n",
       "    <tr>\n",
       "      <th>1</th>\n",
       "      <td>São Paulo</td>\n",
       "      <td>320</td>\n",
       "      <td>4</td>\n",
       "      <td>4</td>\n",
       "      <td>0</td>\n",
       "      <td>20</td>\n",
       "      <td>acept</td>\n",
       "      <td>not furnished</td>\n",
       "      <td>1200</td>\n",
       "      <td>4960</td>\n",
       "      <td>1750</td>\n",
       "      <td>63</td>\n",
       "      <td>7973</td>\n",
       "    </tr>\n",
       "    <tr>\n",
       "      <th>2</th>\n",
       "      <td>Porto Alegre</td>\n",
       "      <td>80</td>\n",
       "      <td>1</td>\n",
       "      <td>1</td>\n",
       "      <td>1</td>\n",
       "      <td>6</td>\n",
       "      <td>acept</td>\n",
       "      <td>not furnished</td>\n",
       "      <td>1000</td>\n",
       "      <td>2800</td>\n",
       "      <td>0</td>\n",
       "      <td>41</td>\n",
       "      <td>3841</td>\n",
       "    </tr>\n",
       "    <tr>\n",
       "      <th>3</th>\n",
       "      <td>Porto Alegre</td>\n",
       "      <td>51</td>\n",
       "      <td>2</td>\n",
       "      <td>1</td>\n",
       "      <td>0</td>\n",
       "      <td>2</td>\n",
       "      <td>acept</td>\n",
       "      <td>not furnished</td>\n",
       "      <td>270</td>\n",
       "      <td>1112</td>\n",
       "      <td>22</td>\n",
       "      <td>17</td>\n",
       "      <td>1421</td>\n",
       "    </tr>\n",
       "    <tr>\n",
       "      <th>4</th>\n",
       "      <td>São Paulo</td>\n",
       "      <td>25</td>\n",
       "      <td>1</td>\n",
       "      <td>1</td>\n",
       "      <td>0</td>\n",
       "      <td>1</td>\n",
       "      <td>not acept</td>\n",
       "      <td>not furnished</td>\n",
       "      <td>0</td>\n",
       "      <td>800</td>\n",
       "      <td>25</td>\n",
       "      <td>11</td>\n",
       "      <td>836</td>\n",
       "    </tr>\n",
       "  </tbody>\n",
       "</table>\n",
       "</div>"
      ],
      "text/plain": [
       "           city  area  rooms  bathroom  parking spaces floor     animal  \\\n",
       "0     São Paulo    70      2         1               1     7      acept   \n",
       "1     São Paulo   320      4         4               0    20      acept   \n",
       "2  Porto Alegre    80      1         1               1     6      acept   \n",
       "3  Porto Alegre    51      2         1               0     2      acept   \n",
       "4     São Paulo    25      1         1               0     1  not acept   \n",
       "\n",
       "       furniture  hoa (R$)  rent amount (R$)  property tax (R$)  \\\n",
       "0      furnished      2065              3300                211   \n",
       "1  not furnished      1200              4960               1750   \n",
       "2  not furnished      1000              2800                  0   \n",
       "3  not furnished       270              1112                 22   \n",
       "4  not furnished         0               800                 25   \n",
       "\n",
       "   fire insurance (R$)  total (R$)  \n",
       "0                   42        5618  \n",
       "1                   63        7973  \n",
       "2                   41        3841  \n",
       "3                   17        1421  \n",
       "4                   11         836  "
      ]
     },
     "execution_count": 4,
     "metadata": {},
     "output_type": "execute_result"
    }
   ],
   "source": [
    "Base_Dados.head(3)"
   ]
  },
  {
   "cell_type": "code",
   "execution_count": 5,
   "id": "d5085174",
   "metadata": {},
   "outputs": [],
   "source": [
    "# selecting the features to remove\n",
    "Base_Dados.drop(columns=['fire insurance (R$)','total (R$)'],inplace=True)"
   ]
  },
  {
   "cell_type": "code",
   "execution_count": 7,
   "id": "09e0f737",
   "metadata": {},
   "outputs": [
    {
     "data": {
      "text/plain": [
       "(10692, 11)"
      ]
     },
     "execution_count": 7,
     "metadata": {},
     "output_type": "execute_result"
    }
   ],
   "source": [
    "# checking if 2 columns were deleted. should have 11 now\n",
    "Base_Dados.shape"
   ]
  },
  {
   "cell_type": "code",
   "execution_count": 8,
   "id": "f4aeea15",
   "metadata": {},
   "outputs": [
    {
     "data": {
      "text/plain": [
       "city                 0\n",
       "area                 0\n",
       "rooms                0\n",
       "bathroom             0\n",
       "parking spaces       0\n",
       "floor                0\n",
       "animal               0\n",
       "furniture            0\n",
       "hoa (R$)             0\n",
       "rent amount (R$)     0\n",
       "property tax (R$)    0\n",
       "dtype: int64"
      ]
     },
     "execution_count": 8,
     "metadata": {},
     "output_type": "execute_result"
    }
   ],
   "source": [
    "# checking null values\n",
    "Base_Dados.isnull().sum().sort_values(ascending=False)"
   ]
  },
  {
   "cell_type": "code",
   "execution_count": 9,
   "id": "93889242",
   "metadata": {},
   "outputs": [
    {
     "data": {
      "text/plain": [
       "city                    5\n",
       "area                  517\n",
       "rooms                  11\n",
       "bathroom               10\n",
       "parking spaces         11\n",
       "floor                  35\n",
       "animal                  2\n",
       "furniture               2\n",
       "hoa (R$)             1679\n",
       "rent amount (R$)     1195\n",
       "property tax (R$)    1243\n",
       "dtype: int64"
      ]
     },
     "execution_count": 9,
     "metadata": {},
     "output_type": "execute_result"
    }
   ],
   "source": [
    "# counting unique values in each column\n",
    "Base_Dados.nunique()"
   ]
  },
  {
   "cell_type": "code",
   "execution_count": 12,
   "id": "cf44e645",
   "metadata": {},
   "outputs": [
    {
     "name": "stdout",
     "output_type": "stream",
     "text": [
      "<class 'pandas.core.frame.DataFrame'>\n",
      "RangeIndex: 10692 entries, 0 to 10691\n",
      "Data columns (total 11 columns):\n",
      " #   Column             Non-Null Count  Dtype \n",
      "---  ------             --------------  ----- \n",
      " 0   city               10692 non-null  object\n",
      " 1   area               10692 non-null  int64 \n",
      " 2   rooms              10692 non-null  int64 \n",
      " 3   bathroom           10692 non-null  int64 \n",
      " 4   parking spaces     10692 non-null  int64 \n",
      " 5   floor              10692 non-null  object\n",
      " 6   animal             10692 non-null  object\n",
      " 7   furniture          10692 non-null  object\n",
      " 8   hoa (R$)           10692 non-null  int64 \n",
      " 9   rent amount (R$)   10692 non-null  int64 \n",
      " 10  property tax (R$)  10692 non-null  int64 \n",
      "dtypes: int64(7), object(4)\n",
      "memory usage: 919.0+ KB\n"
     ]
    },
    {
     "data": {
      "text/plain": [
       "int64     7\n",
       "object    4\n",
       "dtype: int64"
      ]
     },
     "execution_count": 12,
     "metadata": {},
     "output_type": "execute_result"
    }
   ],
   "source": [
    "#checking column types\n",
    "Base_Dados.info()\n",
    "Base_Dados.dtypes.value_counts()"
   ]
  },
  {
   "cell_type": "markdown",
   "id": "df326574",
   "metadata": {},
   "source": [
    "## Exploratory Data Analysis (EDA)"
   ]
  },
  {
   "cell_type": "code",
   "execution_count": 15,
   "id": "54aecf36",
   "metadata": {},
   "outputs": [
    {
     "data": {
      "text/plain": [
       "(Index(['city', 'floor', 'animal', 'furniture'], dtype='object'),\n",
       " Index(['area', 'rooms', 'bathroom', 'parking spaces', 'hoa (R$)',\n",
       "        'rent amount (R$)', 'property tax (R$)'],\n",
       "       dtype='object'))"
      ]
     },
     "execution_count": 15,
     "metadata": {},
     "output_type": "execute_result"
    }
   ],
   "source": [
    "# Selecting the categorial columns and no categorical\n",
    "Categorical_columns = Base_Dados.columns[Base_Dados.dtypes == object]\n",
    "Columns_no_categorical = Base_Dados.columns[Base_Dados.dtypes != object]\n",
    "\n",
    "Categorical_columns,Columns_no_categorical"
   ]
  },
  {
   "cell_type": "code",
   "execution_count": 17,
   "id": "c0f633fb",
   "metadata": {},
   "outputs": [
    {
     "data": {
      "text/plain": [
       "São Paulo         55.059858\n",
       "Rio de Janeiro    14.038533\n",
       "Belo Horizonte    11.765806\n",
       "Porto Alegre      11.157875\n",
       "Campinas           7.977927\n",
       "Name: city, dtype: float64"
      ]
     },
     "execution_count": 17,
     "metadata": {},
     "output_type": "execute_result"
    }
   ],
   "source": [
    "# Analisando campos\n",
    "Base_Dados['city'].value_counts(normalize=True)*100"
   ]
  },
  {
   "cell_type": "code",
   "execution_count": 21,
   "id": "d11f6008",
   "metadata": {},
   "outputs": [
    {
     "name": "stdout",
     "output_type": "stream",
     "text": [
      "city \n",
      " São Paulo         55.059858\n",
      "Rio de Janeiro    14.038533\n",
      "Belo Horizonte    11.765806\n",
      "Porto Alegre      11.157875\n",
      "Campinas           7.977927\n",
      "Name: city, dtype: float64 \n",
      "\n",
      "floor \n",
      " -      23.017209\n",
      "1      10.110363\n",
      "2       9.212495\n",
      "3       8.707445\n",
      "4       6.995885\n",
      "5       5.611672\n",
      "6       5.041152\n",
      "7       4.648335\n",
      "8       4.582866\n",
      "9       3.451178\n",
      "10      3.338945\n",
      "11      2.833895\n",
      "12      2.403666\n",
      "13      1.870557\n",
      "14      1.589974\n",
      "15      1.374860\n",
      "16      1.019454\n",
      "17      0.897868\n",
      "18      0.701459\n",
      "19      0.495698\n",
      "20      0.411523\n",
      "21      0.392817\n",
      "25      0.233820\n",
      "23      0.233820\n",
      "22      0.224467\n",
      "26      0.187056\n",
      "24      0.177703\n",
      "27      0.074822\n",
      "28      0.056117\n",
      "29      0.046764\n",
      "32      0.018706\n",
      "35      0.009353\n",
      "46      0.009353\n",
      "301     0.009353\n",
      "51      0.009353\n",
      "Name: floor, dtype: float64 \n",
      "\n",
      "animal \n",
      " acept        77.777778\n",
      "not acept    22.222222\n",
      "Name: animal, dtype: float64 \n",
      "\n",
      "furniture \n",
      " not furnished    75.626637\n",
      "furnished        24.373363\n",
      "Name: furniture, dtype: float64 \n",
      "\n"
     ]
    }
   ],
   "source": [
    "for column in Categorical_columns:\n",
    "    analysis = Base_Dados[column].value_counts(normalize=True)*100\n",
    "    print(column, '\\n', analysis, '\\n')"
   ]
  },
  {
   "cell_type": "code",
   "execution_count": 22,
   "id": "2a51c4f7",
   "metadata": {},
   "outputs": [
    {
     "data": {
      "text/html": [
       "<div>\n",
       "<style scoped>\n",
       "    .dataframe tbody tr th:only-of-type {\n",
       "        vertical-align: middle;\n",
       "    }\n",
       "\n",
       "    .dataframe tbody tr th {\n",
       "        vertical-align: top;\n",
       "    }\n",
       "\n",
       "    .dataframe thead th {\n",
       "        text-align: right;\n",
       "    }\n",
       "</style>\n",
       "<table border=\"1\" class=\"dataframe\">\n",
       "  <thead>\n",
       "    <tr style=\"text-align: right;\">\n",
       "      <th></th>\n",
       "      <th>city</th>\n",
       "      <th>area</th>\n",
       "      <th>rooms</th>\n",
       "      <th>bathroom</th>\n",
       "      <th>parking spaces</th>\n",
       "      <th>floor</th>\n",
       "      <th>animal</th>\n",
       "      <th>furniture</th>\n",
       "      <th>hoa (R$)</th>\n",
       "      <th>rent amount (R$)</th>\n",
       "      <th>property tax (R$)</th>\n",
       "    </tr>\n",
       "  </thead>\n",
       "  <tbody>\n",
       "    <tr>\n",
       "      <th>2562</th>\n",
       "      <td>Belo Horizonte</td>\n",
       "      <td>80</td>\n",
       "      <td>3</td>\n",
       "      <td>2</td>\n",
       "      <td>2</td>\n",
       "      <td>301</td>\n",
       "      <td>acept</td>\n",
       "      <td>not furnished</td>\n",
       "      <td>750</td>\n",
       "      <td>2600</td>\n",
       "      <td>164</td>\n",
       "    </tr>\n",
       "  </tbody>\n",
       "</table>\n",
       "</div>"
      ],
      "text/plain": [
       "                city  area  rooms  bathroom  parking spaces floor animal  \\\n",
       "2562  Belo Horizonte    80      3         2               2   301  acept   \n",
       "\n",
       "          furniture  hoa (R$)  rent amount (R$)  property tax (R$)  \n",
       "2562  not furnished       750              2600                164  "
      ]
     },
     "execution_count": 22,
     "metadata": {},
     "output_type": "execute_result"
    }
   ],
   "source": [
    "# data cleaning\n",
    "Base_Dados.loc[Base_Dados['floor']=='301']"
   ]
  },
  {
   "cell_type": "code",
   "execution_count": 23,
   "id": "11f25e3d",
   "metadata": {},
   "outputs": [
    {
     "data": {
      "text/plain": [
       "'301'"
      ]
     },
     "execution_count": 23,
     "metadata": {},
     "output_type": "execute_result"
    }
   ],
   "source": [
    "Base_Dados.iloc[2562,5]"
   ]
  },
  {
   "cell_type": "code",
   "execution_count": 25,
   "id": "b89dacab",
   "metadata": {},
   "outputs": [],
   "source": [
    "Base_Dados.iloc[2562,5]=30"
   ]
  },
  {
   "cell_type": "code",
   "execution_count": 27,
   "id": "987e8fef",
   "metadata": {},
   "outputs": [
    {
     "data": {
      "text/html": [
       "<div>\n",
       "<style scoped>\n",
       "    .dataframe tbody tr th:only-of-type {\n",
       "        vertical-align: middle;\n",
       "    }\n",
       "\n",
       "    .dataframe tbody tr th {\n",
       "        vertical-align: top;\n",
       "    }\n",
       "\n",
       "    .dataframe thead th {\n",
       "        text-align: right;\n",
       "    }\n",
       "</style>\n",
       "<table border=\"1\" class=\"dataframe\">\n",
       "  <thead>\n",
       "    <tr style=\"text-align: right;\">\n",
       "      <th></th>\n",
       "      <th>city</th>\n",
       "      <th>area</th>\n",
       "      <th>rooms</th>\n",
       "      <th>bathroom</th>\n",
       "      <th>parking spaces</th>\n",
       "      <th>floor</th>\n",
       "      <th>animal</th>\n",
       "      <th>furniture</th>\n",
       "      <th>hoa (R$)</th>\n",
       "      <th>rent amount (R$)</th>\n",
       "      <th>property tax (R$)</th>\n",
       "    </tr>\n",
       "  </thead>\n",
       "  <tbody>\n",
       "    <tr>\n",
       "      <th>2562</th>\n",
       "      <td>Belo Horizonte</td>\n",
       "      <td>80</td>\n",
       "      <td>3</td>\n",
       "      <td>2</td>\n",
       "      <td>2</td>\n",
       "      <td>30</td>\n",
       "      <td>acept</td>\n",
       "      <td>not furnished</td>\n",
       "      <td>750</td>\n",
       "      <td>2600</td>\n",
       "      <td>164</td>\n",
       "    </tr>\n",
       "  </tbody>\n",
       "</table>\n",
       "</div>"
      ],
      "text/plain": [
       "                city  area  rooms  bathroom  parking spaces floor animal  \\\n",
       "2562  Belo Horizonte    80      3         2               2    30  acept   \n",
       "\n",
       "          furniture  hoa (R$)  rent amount (R$)  property tax (R$)  \n",
       "2562  not furnished       750              2600                164  "
      ]
     },
     "execution_count": 27,
     "metadata": {},
     "output_type": "execute_result"
    }
   ],
   "source": [
    "Base_Dados.loc[Base_Dados['floor']==30]"
   ]
  },
  {
   "cell_type": "code",
   "execution_count": 28,
   "id": "582b4b09",
   "metadata": {},
   "outputs": [
    {
     "data": {
      "text/plain": [
       "0         7\n",
       "1        20\n",
       "2         6\n",
       "3         2\n",
       "4         1\n",
       "         ..\n",
       "10687     5\n",
       "10688    17\n",
       "10689     8\n",
       "10690     8\n",
       "10691     0\n",
       "Name: floor, Length: 10692, dtype: object"
      ]
     },
     "execution_count": 28,
     "metadata": {},
     "output_type": "execute_result"
    }
   ],
   "source": [
    "# replacing the \"-\" with 0\n",
    "Base_Dados['floor'].apply(lambda Registro: 0 if Registro=='-' else Registro)"
   ]
  },
  {
   "cell_type": "code",
   "execution_count": 29,
   "id": "00a6435e",
   "metadata": {},
   "outputs": [
    {
     "data": {
      "text/html": [
       "<div>\n",
       "<style scoped>\n",
       "    .dataframe tbody tr th:only-of-type {\n",
       "        vertical-align: middle;\n",
       "    }\n",
       "\n",
       "    .dataframe tbody tr th {\n",
       "        vertical-align: top;\n",
       "    }\n",
       "\n",
       "    .dataframe thead th {\n",
       "        text-align: right;\n",
       "    }\n",
       "</style>\n",
       "<table border=\"1\" class=\"dataframe\">\n",
       "  <thead>\n",
       "    <tr style=\"text-align: right;\">\n",
       "      <th></th>\n",
       "      <th>city</th>\n",
       "      <th>area</th>\n",
       "      <th>rooms</th>\n",
       "      <th>bathroom</th>\n",
       "      <th>parking spaces</th>\n",
       "      <th>floor</th>\n",
       "      <th>animal</th>\n",
       "      <th>furniture</th>\n",
       "      <th>hoa (R$)</th>\n",
       "      <th>rent amount (R$)</th>\n",
       "      <th>property tax (R$)</th>\n",
       "    </tr>\n",
       "  </thead>\n",
       "  <tbody>\n",
       "    <tr>\n",
       "      <th>10687</th>\n",
       "      <td>Porto Alegre</td>\n",
       "      <td>63</td>\n",
       "      <td>2</td>\n",
       "      <td>1</td>\n",
       "      <td>1</td>\n",
       "      <td>5</td>\n",
       "      <td>not acept</td>\n",
       "      <td>furnished</td>\n",
       "      <td>402</td>\n",
       "      <td>1478</td>\n",
       "      <td>24</td>\n",
       "    </tr>\n",
       "    <tr>\n",
       "      <th>10688</th>\n",
       "      <td>São Paulo</td>\n",
       "      <td>285</td>\n",
       "      <td>4</td>\n",
       "      <td>4</td>\n",
       "      <td>4</td>\n",
       "      <td>17</td>\n",
       "      <td>acept</td>\n",
       "      <td>not furnished</td>\n",
       "      <td>3100</td>\n",
       "      <td>15000</td>\n",
       "      <td>973</td>\n",
       "    </tr>\n",
       "    <tr>\n",
       "      <th>10689</th>\n",
       "      <td>Rio de Janeiro</td>\n",
       "      <td>70</td>\n",
       "      <td>3</td>\n",
       "      <td>3</td>\n",
       "      <td>0</td>\n",
       "      <td>8</td>\n",
       "      <td>not acept</td>\n",
       "      <td>furnished</td>\n",
       "      <td>980</td>\n",
       "      <td>6000</td>\n",
       "      <td>332</td>\n",
       "    </tr>\n",
       "    <tr>\n",
       "      <th>10690</th>\n",
       "      <td>Rio de Janeiro</td>\n",
       "      <td>120</td>\n",
       "      <td>2</td>\n",
       "      <td>2</td>\n",
       "      <td>2</td>\n",
       "      <td>8</td>\n",
       "      <td>acept</td>\n",
       "      <td>furnished</td>\n",
       "      <td>1585</td>\n",
       "      <td>12000</td>\n",
       "      <td>279</td>\n",
       "    </tr>\n",
       "    <tr>\n",
       "      <th>10691</th>\n",
       "      <td>São Paulo</td>\n",
       "      <td>80</td>\n",
       "      <td>2</td>\n",
       "      <td>1</td>\n",
       "      <td>0</td>\n",
       "      <td>-</td>\n",
       "      <td>acept</td>\n",
       "      <td>not furnished</td>\n",
       "      <td>0</td>\n",
       "      <td>1400</td>\n",
       "      <td>165</td>\n",
       "    </tr>\n",
       "  </tbody>\n",
       "</table>\n",
       "</div>"
      ],
      "text/plain": [
       "                 city  area  rooms  bathroom  parking spaces floor     animal  \\\n",
       "10687    Porto Alegre    63      2         1               1     5  not acept   \n",
       "10688       São Paulo   285      4         4               4    17      acept   \n",
       "10689  Rio de Janeiro    70      3         3               0     8  not acept   \n",
       "10690  Rio de Janeiro   120      2         2               2     8      acept   \n",
       "10691       São Paulo    80      2         1               0     -      acept   \n",
       "\n",
       "           furniture  hoa (R$)  rent amount (R$)  property tax (R$)  \n",
       "10687      furnished       402              1478                 24  \n",
       "10688  not furnished      3100             15000                973  \n",
       "10689      furnished       980              6000                332  \n",
       "10690      furnished      1585             12000                279  \n",
       "10691  not furnished         0              1400                165  "
      ]
     },
     "execution_count": 29,
     "metadata": {},
     "output_type": "execute_result"
    }
   ],
   "source": [
    "Base_Dados.tail()"
   ]
  },
  {
   "cell_type": "code",
   "execution_count": 30,
   "id": "7633c3d0",
   "metadata": {},
   "outputs": [],
   "source": [
    "Base_Dados['floor']= Base_Dados['floor'].apply(lambda Registro: 0 if Registro=='-' else Registro)"
   ]
  },
  {
   "cell_type": "code",
   "execution_count": 32,
   "id": "516230e8",
   "metadata": {},
   "outputs": [
    {
     "data": {
      "text/plain": [
       "city                 object\n",
       "area                  int64\n",
       "rooms                 int64\n",
       "bathroom              int64\n",
       "parking spaces        int64\n",
       "floor                object\n",
       "animal               object\n",
       "furniture            object\n",
       "hoa (R$)              int64\n",
       "rent amount (R$)      int64\n",
       "property tax (R$)     int64\n",
       "dtype: object"
      ]
     },
     "execution_count": 32,
     "metadata": {},
     "output_type": "execute_result"
    }
   ],
   "source": [
    "Base_Dados.dtypes"
   ]
  },
  {
   "cell_type": "code",
   "execution_count": 33,
   "id": "733b8690",
   "metadata": {},
   "outputs": [
    {
     "data": {
      "text/plain": [
       "0         7\n",
       "1        20\n",
       "2         6\n",
       "3         2\n",
       "4         1\n",
       "         ..\n",
       "10687     5\n",
       "10688    17\n",
       "10689     8\n",
       "10690     8\n",
       "10691     0\n",
       "Name: floor, Length: 10692, dtype: int64"
      ]
     },
     "execution_count": 33,
     "metadata": {},
     "output_type": "execute_result"
    }
   ],
   "source": [
    "pd.to_numeric(Base_Dados['floor'])"
   ]
  },
  {
   "cell_type": "code",
   "execution_count": 34,
   "id": "d137c4d6",
   "metadata": {},
   "outputs": [],
   "source": [
    "Base_Dados['floor'] = pd.to_numeric(Base_Dados['floor'])"
   ]
  },
  {
   "cell_type": "code",
   "execution_count": 35,
   "id": "76f9c629",
   "metadata": {},
   "outputs": [
    {
     "data": {
      "text/html": [
       "<div>\n",
       "<style scoped>\n",
       "    .dataframe tbody tr th:only-of-type {\n",
       "        vertical-align: middle;\n",
       "    }\n",
       "\n",
       "    .dataframe tbody tr th {\n",
       "        vertical-align: top;\n",
       "    }\n",
       "\n",
       "    .dataframe thead th {\n",
       "        text-align: right;\n",
       "    }\n",
       "</style>\n",
       "<table border=\"1\" class=\"dataframe\">\n",
       "  <thead>\n",
       "    <tr style=\"text-align: right;\">\n",
       "      <th></th>\n",
       "      <th>city</th>\n",
       "      <th>area</th>\n",
       "      <th>rooms</th>\n",
       "      <th>bathroom</th>\n",
       "      <th>parking spaces</th>\n",
       "      <th>floor</th>\n",
       "      <th>animal</th>\n",
       "      <th>furniture</th>\n",
       "      <th>hoa (R$)</th>\n",
       "      <th>rent amount (R$)</th>\n",
       "      <th>property tax (R$)</th>\n",
       "    </tr>\n",
       "  </thead>\n",
       "  <tbody>\n",
       "    <tr>\n",
       "      <th>0</th>\n",
       "      <td>São Paulo</td>\n",
       "      <td>70</td>\n",
       "      <td>2</td>\n",
       "      <td>1</td>\n",
       "      <td>1</td>\n",
       "      <td>7</td>\n",
       "      <td>acept</td>\n",
       "      <td>furnished</td>\n",
       "      <td>2065</td>\n",
       "      <td>3300</td>\n",
       "      <td>211</td>\n",
       "    </tr>\n",
       "    <tr>\n",
       "      <th>1</th>\n",
       "      <td>São Paulo</td>\n",
       "      <td>320</td>\n",
       "      <td>4</td>\n",
       "      <td>4</td>\n",
       "      <td>0</td>\n",
       "      <td>20</td>\n",
       "      <td>acept</td>\n",
       "      <td>not furnished</td>\n",
       "      <td>1200</td>\n",
       "      <td>4960</td>\n",
       "      <td>1750</td>\n",
       "    </tr>\n",
       "    <tr>\n",
       "      <th>2</th>\n",
       "      <td>Porto Alegre</td>\n",
       "      <td>80</td>\n",
       "      <td>1</td>\n",
       "      <td>1</td>\n",
       "      <td>1</td>\n",
       "      <td>6</td>\n",
       "      <td>acept</td>\n",
       "      <td>not furnished</td>\n",
       "      <td>1000</td>\n",
       "      <td>2800</td>\n",
       "      <td>0</td>\n",
       "    </tr>\n",
       "    <tr>\n",
       "      <th>3</th>\n",
       "      <td>Porto Alegre</td>\n",
       "      <td>51</td>\n",
       "      <td>2</td>\n",
       "      <td>1</td>\n",
       "      <td>0</td>\n",
       "      <td>2</td>\n",
       "      <td>acept</td>\n",
       "      <td>not furnished</td>\n",
       "      <td>270</td>\n",
       "      <td>1112</td>\n",
       "      <td>22</td>\n",
       "    </tr>\n",
       "    <tr>\n",
       "      <th>4</th>\n",
       "      <td>São Paulo</td>\n",
       "      <td>25</td>\n",
       "      <td>1</td>\n",
       "      <td>1</td>\n",
       "      <td>0</td>\n",
       "      <td>1</td>\n",
       "      <td>not acept</td>\n",
       "      <td>not furnished</td>\n",
       "      <td>0</td>\n",
       "      <td>800</td>\n",
       "      <td>25</td>\n",
       "    </tr>\n",
       "  </tbody>\n",
       "</table>\n",
       "</div>"
      ],
      "text/plain": [
       "           city  area  rooms  bathroom  parking spaces  floor     animal  \\\n",
       "0     São Paulo    70      2         1               1      7      acept   \n",
       "1     São Paulo   320      4         4               0     20      acept   \n",
       "2  Porto Alegre    80      1         1               1      6      acept   \n",
       "3  Porto Alegre    51      2         1               0      2      acept   \n",
       "4     São Paulo    25      1         1               0      1  not acept   \n",
       "\n",
       "       furniture  hoa (R$)  rent amount (R$)  property tax (R$)  \n",
       "0      furnished      2065              3300                211  \n",
       "1  not furnished      1200              4960               1750  \n",
       "2  not furnished      1000              2800                  0  \n",
       "3  not furnished       270              1112                 22  \n",
       "4  not furnished         0               800                 25  "
      ]
     },
     "execution_count": 35,
     "metadata": {},
     "output_type": "execute_result"
    }
   ],
   "source": [
    "Base_Dados.head()"
   ]
  },
  {
   "cell_type": "code",
   "execution_count": 38,
   "id": "1dcb25e4",
   "metadata": {},
   "outputs": [
    {
     "data": {
      "text/plain": [
       "0     23.017209\n",
       "1     10.110363\n",
       "2      9.212495\n",
       "3      8.707445\n",
       "4      6.995885\n",
       "5      5.611672\n",
       "6      5.041152\n",
       "7      4.648335\n",
       "8      4.582866\n",
       "9      3.451178\n",
       "10     3.338945\n",
       "11     2.833895\n",
       "12     2.403666\n",
       "13     1.870557\n",
       "14     1.589974\n",
       "15     1.374860\n",
       "16     1.019454\n",
       "17     0.897868\n",
       "18     0.701459\n",
       "19     0.495698\n",
       "20     0.411523\n",
       "21     0.392817\n",
       "25     0.233820\n",
       "23     0.233820\n",
       "22     0.224467\n",
       "26     0.187056\n",
       "24     0.177703\n",
       "27     0.074822\n",
       "28     0.056117\n",
       "29     0.046764\n",
       "32     0.018706\n",
       "35     0.009353\n",
       "46     0.009353\n",
       "30     0.009353\n",
       "51     0.009353\n",
       "Name: floor, dtype: float64"
      ]
     },
     "execution_count": 38,
     "metadata": {},
     "output_type": "execute_result"
    }
   ],
   "source": [
    "Base_Dados['floor'].value_counts(normalize=True)*100"
   ]
  },
  {
   "cell_type": "code",
   "execution_count": null,
   "id": "da3b83a6",
   "metadata": {},
   "outputs": [],
   "source": []
  }
 ],
 "metadata": {
  "kernelspec": {
   "display_name": "Python 3 (ipykernel)",
   "language": "python",
   "name": "python3"
  },
  "language_info": {
   "codemirror_mode": {
    "name": "ipython",
    "version": 3
   },
   "file_extension": ".py",
   "mimetype": "text/x-python",
   "name": "python",
   "nbconvert_exporter": "python",
   "pygments_lexer": "ipython3",
   "version": "3.9.12"
  }
 },
 "nbformat": 4,
 "nbformat_minor": 5
}

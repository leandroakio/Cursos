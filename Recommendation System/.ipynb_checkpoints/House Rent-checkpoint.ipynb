{
 "cells": [
  {
   "cell_type": "markdown",
   "id": "3e2e9da7",
   "metadata": {},
   "source": [
    "### The goal of this project is to calculate the rent value of a house based on its features and location."
   ]
  },
  {
   "cell_type": "code",
   "execution_count": 1,
   "id": "9052e2ce",
   "metadata": {},
   "outputs": [],
   "source": [
    "#importing libraries\n",
    "import pandas as pd\n",
    "import numpy as np\n",
    "import matplotlib.pyplot as plt\n",
    "import seaborn as sns\n",
    "import warnings\n",
    "warnings.filterwarnings('ignore')\n",
    "\n",
    "#configuring pandas\n",
    "pd.set_option('display.max_rows',200)\n",
    "pd.set_option('display.max_columns',100)\n",
    "#configuring matplotlib\n",
    "plt.rcParams['figure.figsize']=(15,6)\n",
    "plt.style.use('seaborn-darkgrid')"
   ]
  },
  {
   "cell_type": "markdown",
   "id": "3311c37f",
   "metadata": {},
   "source": [
    "### Exploring data"
   ]
  },
  {
   "cell_type": "code",
   "execution_count": 2,
   "id": "0e12caaf",
   "metadata": {},
   "outputs": [],
   "source": [
    "Base_Dados = pd.read_csv('house_data.csv')"
   ]
  },
  {
   "cell_type": "code",
   "execution_count": 3,
   "id": "7f37773b",
   "metadata": {},
   "outputs": [
    {
     "data": {
      "text/plain": [
       "(10692, 13)"
      ]
     },
     "execution_count": 3,
     "metadata": {},
     "output_type": "execute_result"
    }
   ],
   "source": [
    "Base_Dados.shape"
   ]
  },
  {
   "cell_type": "code",
   "execution_count": 4,
   "id": "d9bafa65",
   "metadata": {},
   "outputs": [
    {
     "data": {
      "text/html": [
       "<div>\n",
       "<style scoped>\n",
       "    .dataframe tbody tr th:only-of-type {\n",
       "        vertical-align: middle;\n",
       "    }\n",
       "\n",
       "    .dataframe tbody tr th {\n",
       "        vertical-align: top;\n",
       "    }\n",
       "\n",
       "    .dataframe thead th {\n",
       "        text-align: right;\n",
       "    }\n",
       "</style>\n",
       "<table border=\"1\" class=\"dataframe\">\n",
       "  <thead>\n",
       "    <tr style=\"text-align: right;\">\n",
       "      <th></th>\n",
       "      <th>city</th>\n",
       "      <th>area</th>\n",
       "      <th>rooms</th>\n",
       "      <th>bathroom</th>\n",
       "      <th>parking spaces</th>\n",
       "      <th>floor</th>\n",
       "      <th>animal</th>\n",
       "      <th>furniture</th>\n",
       "      <th>hoa (R$)</th>\n",
       "      <th>rent amount (R$)</th>\n",
       "      <th>property tax (R$)</th>\n",
       "      <th>fire insurance (R$)</th>\n",
       "      <th>total (R$)</th>\n",
       "    </tr>\n",
       "  </thead>\n",
       "  <tbody>\n",
       "    <tr>\n",
       "      <th>0</th>\n",
       "      <td>São Paulo</td>\n",
       "      <td>70</td>\n",
       "      <td>2</td>\n",
       "      <td>1</td>\n",
       "      <td>1</td>\n",
       "      <td>7</td>\n",
       "      <td>acept</td>\n",
       "      <td>furnished</td>\n",
       "      <td>2065</td>\n",
       "      <td>3300</td>\n",
       "      <td>211</td>\n",
       "      <td>42</td>\n",
       "      <td>5618</td>\n",
       "    </tr>\n",
       "    <tr>\n",
       "      <th>1</th>\n",
       "      <td>São Paulo</td>\n",
       "      <td>320</td>\n",
       "      <td>4</td>\n",
       "      <td>4</td>\n",
       "      <td>0</td>\n",
       "      <td>20</td>\n",
       "      <td>acept</td>\n",
       "      <td>not furnished</td>\n",
       "      <td>1200</td>\n",
       "      <td>4960</td>\n",
       "      <td>1750</td>\n",
       "      <td>63</td>\n",
       "      <td>7973</td>\n",
       "    </tr>\n",
       "    <tr>\n",
       "      <th>2</th>\n",
       "      <td>Porto Alegre</td>\n",
       "      <td>80</td>\n",
       "      <td>1</td>\n",
       "      <td>1</td>\n",
       "      <td>1</td>\n",
       "      <td>6</td>\n",
       "      <td>acept</td>\n",
       "      <td>not furnished</td>\n",
       "      <td>1000</td>\n",
       "      <td>2800</td>\n",
       "      <td>0</td>\n",
       "      <td>41</td>\n",
       "      <td>3841</td>\n",
       "    </tr>\n",
       "  </tbody>\n",
       "</table>\n",
       "</div>"
      ],
      "text/plain": [
       "           city  area  rooms  bathroom  parking spaces floor animal  \\\n",
       "0     São Paulo    70      2         1               1     7  acept   \n",
       "1     São Paulo   320      4         4               0    20  acept   \n",
       "2  Porto Alegre    80      1         1               1     6  acept   \n",
       "\n",
       "       furniture  hoa (R$)  rent amount (R$)  property tax (R$)  \\\n",
       "0      furnished      2065              3300                211   \n",
       "1  not furnished      1200              4960               1750   \n",
       "2  not furnished      1000              2800                  0   \n",
       "\n",
       "   fire insurance (R$)  total (R$)  \n",
       "0                   42        5618  \n",
       "1                   63        7973  \n",
       "2                   41        3841  "
      ]
     },
     "execution_count": 4,
     "metadata": {},
     "output_type": "execute_result"
    }
   ],
   "source": [
    "Base_Dados.head(3)"
   ]
  },
  {
   "cell_type": "code",
   "execution_count": 5,
   "id": "7fa7eb69",
   "metadata": {},
   "outputs": [],
   "source": [
    "# selecting the features to remove\n",
    "Base_Dados.drop(columns=['fire insurance (R$)','total (R$)'],inplace=True)"
   ]
  },
  {
   "cell_type": "code",
   "execution_count": 6,
   "id": "2bd99ee2",
   "metadata": {},
   "outputs": [
    {
     "data": {
      "text/plain": [
       "(10692, 11)"
      ]
     },
     "execution_count": 6,
     "metadata": {},
     "output_type": "execute_result"
    }
   ],
   "source": [
    "# checking if 2 columns were deleted. should have 11 now\n",
    "Base_Dados.shape"
   ]
  },
  {
   "cell_type": "code",
   "execution_count": 7,
   "id": "66749683",
   "metadata": {},
   "outputs": [
    {
     "data": {
      "text/plain": [
       "city                 0\n",
       "area                 0\n",
       "rooms                0\n",
       "bathroom             0\n",
       "parking spaces       0\n",
       "floor                0\n",
       "animal               0\n",
       "furniture            0\n",
       "hoa (R$)             0\n",
       "rent amount (R$)     0\n",
       "property tax (R$)    0\n",
       "dtype: int64"
      ]
     },
     "execution_count": 7,
     "metadata": {},
     "output_type": "execute_result"
    }
   ],
   "source": [
    "# checking null values\n",
    "Base_Dados.isnull().sum().sort_values(ascending=False)"
   ]
  },
  {
   "cell_type": "code",
   "execution_count": 8,
   "id": "23a102ae",
   "metadata": {},
   "outputs": [
    {
     "data": {
      "text/plain": [
       "city                    5\n",
       "area                  517\n",
       "rooms                  11\n",
       "bathroom               10\n",
       "parking spaces         11\n",
       "floor                  35\n",
       "animal                  2\n",
       "furniture               2\n",
       "hoa (R$)             1679\n",
       "rent amount (R$)     1195\n",
       "property tax (R$)    1243\n",
       "dtype: int64"
      ]
     },
     "execution_count": 8,
     "metadata": {},
     "output_type": "execute_result"
    }
   ],
   "source": [
    "# counting unique values in each column\n",
    "Base_Dados.nunique()"
   ]
  },
  {
   "cell_type": "code",
   "execution_count": 9,
   "id": "8ec2f991",
   "metadata": {},
   "outputs": [
    {
     "name": "stdout",
     "output_type": "stream",
     "text": [
      "<class 'pandas.core.frame.DataFrame'>\n",
      "RangeIndex: 10692 entries, 0 to 10691\n",
      "Data columns (total 11 columns):\n",
      " #   Column             Non-Null Count  Dtype \n",
      "---  ------             --------------  ----- \n",
      " 0   city               10692 non-null  object\n",
      " 1   area               10692 non-null  int64 \n",
      " 2   rooms              10692 non-null  int64 \n",
      " 3   bathroom           10692 non-null  int64 \n",
      " 4   parking spaces     10692 non-null  int64 \n",
      " 5   floor              10692 non-null  object\n",
      " 6   animal             10692 non-null  object\n",
      " 7   furniture          10692 non-null  object\n",
      " 8   hoa (R$)           10692 non-null  int64 \n",
      " 9   rent amount (R$)   10692 non-null  int64 \n",
      " 10  property tax (R$)  10692 non-null  int64 \n",
      "dtypes: int64(7), object(4)\n",
      "memory usage: 919.0+ KB\n"
     ]
    },
    {
     "data": {
      "text/plain": [
       "int64     7\n",
       "object    4\n",
       "dtype: int64"
      ]
     },
     "execution_count": 9,
     "metadata": {},
     "output_type": "execute_result"
    }
   ],
   "source": [
    "#checking column types\n",
    "Base_Dados.info()\n",
    "Base_Dados.dtypes.value_counts()"
   ]
  },
  {
   "cell_type": "markdown",
   "id": "e9d58d14",
   "metadata": {},
   "source": [
    "## Exploratory Data Analysis (EDA)"
   ]
  },
  {
   "cell_type": "code",
   "execution_count": 10,
   "id": "28f1f347",
   "metadata": {},
   "outputs": [
    {
     "data": {
      "text/plain": [
       "(Index(['city', 'floor', 'animal', 'furniture'], dtype='object'),\n",
       " Index(['area', 'rooms', 'bathroom', 'parking spaces', 'hoa (R$)',\n",
       "        'rent amount (R$)', 'property tax (R$)'],\n",
       "       dtype='object'))"
      ]
     },
     "execution_count": 10,
     "metadata": {},
     "output_type": "execute_result"
    }
   ],
   "source": [
    "# Selecting the categorial columns and no categorical\n",
    "Categorical_columns = Base_Dados.columns[Base_Dados.dtypes == object]\n",
    "Numerical_columns = Base_Dados.columns[Base_Dados.dtypes != object]\n",
    "\n",
    "Categorical_columns,Numerical_columns"
   ]
  },
  {
   "cell_type": "code",
   "execution_count": 11,
   "id": "369ae065",
   "metadata": {},
   "outputs": [
    {
     "data": {
      "text/plain": [
       "São Paulo         55.059858\n",
       "Rio de Janeiro    14.038533\n",
       "Belo Horizonte    11.765806\n",
       "Porto Alegre      11.157875\n",
       "Campinas           7.977927\n",
       "Name: city, dtype: float64"
      ]
     },
     "execution_count": 11,
     "metadata": {},
     "output_type": "execute_result"
    }
   ],
   "source": [
    "# Analisando campos\n",
    "Base_Dados['city'].value_counts(normalize=True)*100"
   ]
  },
  {
   "cell_type": "code",
   "execution_count": 12,
   "id": "740389a1",
   "metadata": {},
   "outputs": [
    {
     "name": "stdout",
     "output_type": "stream",
     "text": [
      "city \n",
      " São Paulo         55.059858\n",
      "Rio de Janeiro    14.038533\n",
      "Belo Horizonte    11.765806\n",
      "Porto Alegre      11.157875\n",
      "Campinas           7.977927\n",
      "Name: city, dtype: float64 \n",
      "\n",
      "floor \n",
      " -      23.017209\n",
      "1      10.110363\n",
      "2       9.212495\n",
      "3       8.707445\n",
      "4       6.995885\n",
      "5       5.611672\n",
      "6       5.041152\n",
      "7       4.648335\n",
      "8       4.582866\n",
      "9       3.451178\n",
      "10      3.338945\n",
      "11      2.833895\n",
      "12      2.403666\n",
      "13      1.870557\n",
      "14      1.589974\n",
      "15      1.374860\n",
      "16      1.019454\n",
      "17      0.897868\n",
      "18      0.701459\n",
      "19      0.495698\n",
      "20      0.411523\n",
      "21      0.392817\n",
      "25      0.233820\n",
      "23      0.233820\n",
      "22      0.224467\n",
      "26      0.187056\n",
      "24      0.177703\n",
      "27      0.074822\n",
      "28      0.056117\n",
      "29      0.046764\n",
      "32      0.018706\n",
      "35      0.009353\n",
      "46      0.009353\n",
      "301     0.009353\n",
      "51      0.009353\n",
      "Name: floor, dtype: float64 \n",
      "\n",
      "animal \n",
      " acept        77.777778\n",
      "not acept    22.222222\n",
      "Name: animal, dtype: float64 \n",
      "\n",
      "furniture \n",
      " not furnished    75.626637\n",
      "furnished        24.373363\n",
      "Name: furniture, dtype: float64 \n",
      "\n"
     ]
    }
   ],
   "source": [
    "for column in Categorical_columns:\n",
    "    analysis = Base_Dados[column].value_counts(normalize=True)*100\n",
    "    print(column, '\\n', analysis, '\\n')"
   ]
  },
  {
   "cell_type": "code",
   "execution_count": 13,
   "id": "f410852c",
   "metadata": {},
   "outputs": [
    {
     "data": {
      "text/html": [
       "<div>\n",
       "<style scoped>\n",
       "    .dataframe tbody tr th:only-of-type {\n",
       "        vertical-align: middle;\n",
       "    }\n",
       "\n",
       "    .dataframe tbody tr th {\n",
       "        vertical-align: top;\n",
       "    }\n",
       "\n",
       "    .dataframe thead th {\n",
       "        text-align: right;\n",
       "    }\n",
       "</style>\n",
       "<table border=\"1\" class=\"dataframe\">\n",
       "  <thead>\n",
       "    <tr style=\"text-align: right;\">\n",
       "      <th></th>\n",
       "      <th>city</th>\n",
       "      <th>area</th>\n",
       "      <th>rooms</th>\n",
       "      <th>bathroom</th>\n",
       "      <th>parking spaces</th>\n",
       "      <th>floor</th>\n",
       "      <th>animal</th>\n",
       "      <th>furniture</th>\n",
       "      <th>hoa (R$)</th>\n",
       "      <th>rent amount (R$)</th>\n",
       "      <th>property tax (R$)</th>\n",
       "    </tr>\n",
       "  </thead>\n",
       "  <tbody>\n",
       "    <tr>\n",
       "      <th>2562</th>\n",
       "      <td>Belo Horizonte</td>\n",
       "      <td>80</td>\n",
       "      <td>3</td>\n",
       "      <td>2</td>\n",
       "      <td>2</td>\n",
       "      <td>301</td>\n",
       "      <td>acept</td>\n",
       "      <td>not furnished</td>\n",
       "      <td>750</td>\n",
       "      <td>2600</td>\n",
       "      <td>164</td>\n",
       "    </tr>\n",
       "  </tbody>\n",
       "</table>\n",
       "</div>"
      ],
      "text/plain": [
       "                city  area  rooms  bathroom  parking spaces floor animal  \\\n",
       "2562  Belo Horizonte    80      3         2               2   301  acept   \n",
       "\n",
       "          furniture  hoa (R$)  rent amount (R$)  property tax (R$)  \n",
       "2562  not furnished       750              2600                164  "
      ]
     },
     "execution_count": 13,
     "metadata": {},
     "output_type": "execute_result"
    }
   ],
   "source": [
    "# data cleaning\n",
    "Base_Dados.loc[Base_Dados['floor']=='301']"
   ]
  },
  {
   "cell_type": "code",
   "execution_count": 14,
   "id": "560b66c4",
   "metadata": {},
   "outputs": [
    {
     "data": {
      "text/plain": [
       "'301'"
      ]
     },
     "execution_count": 14,
     "metadata": {},
     "output_type": "execute_result"
    }
   ],
   "source": [
    "Base_Dados.iloc[2562,5]"
   ]
  },
  {
   "cell_type": "code",
   "execution_count": 15,
   "id": "018d62ad",
   "metadata": {},
   "outputs": [],
   "source": [
    "Base_Dados.iloc[2562,5]=30"
   ]
  },
  {
   "cell_type": "code",
   "execution_count": 16,
   "id": "70c172d5",
   "metadata": {},
   "outputs": [
    {
     "data": {
      "text/html": [
       "<div>\n",
       "<style scoped>\n",
       "    .dataframe tbody tr th:only-of-type {\n",
       "        vertical-align: middle;\n",
       "    }\n",
       "\n",
       "    .dataframe tbody tr th {\n",
       "        vertical-align: top;\n",
       "    }\n",
       "\n",
       "    .dataframe thead th {\n",
       "        text-align: right;\n",
       "    }\n",
       "</style>\n",
       "<table border=\"1\" class=\"dataframe\">\n",
       "  <thead>\n",
       "    <tr style=\"text-align: right;\">\n",
       "      <th></th>\n",
       "      <th>city</th>\n",
       "      <th>area</th>\n",
       "      <th>rooms</th>\n",
       "      <th>bathroom</th>\n",
       "      <th>parking spaces</th>\n",
       "      <th>floor</th>\n",
       "      <th>animal</th>\n",
       "      <th>furniture</th>\n",
       "      <th>hoa (R$)</th>\n",
       "      <th>rent amount (R$)</th>\n",
       "      <th>property tax (R$)</th>\n",
       "    </tr>\n",
       "  </thead>\n",
       "  <tbody>\n",
       "    <tr>\n",
       "      <th>2562</th>\n",
       "      <td>Belo Horizonte</td>\n",
       "      <td>80</td>\n",
       "      <td>3</td>\n",
       "      <td>2</td>\n",
       "      <td>2</td>\n",
       "      <td>30</td>\n",
       "      <td>acept</td>\n",
       "      <td>not furnished</td>\n",
       "      <td>750</td>\n",
       "      <td>2600</td>\n",
       "      <td>164</td>\n",
       "    </tr>\n",
       "  </tbody>\n",
       "</table>\n",
       "</div>"
      ],
      "text/plain": [
       "                city  area  rooms  bathroom  parking spaces floor animal  \\\n",
       "2562  Belo Horizonte    80      3         2               2    30  acept   \n",
       "\n",
       "          furniture  hoa (R$)  rent amount (R$)  property tax (R$)  \n",
       "2562  not furnished       750              2600                164  "
      ]
     },
     "execution_count": 16,
     "metadata": {},
     "output_type": "execute_result"
    }
   ],
   "source": [
    "Base_Dados.loc[Base_Dados['floor']==30]"
   ]
  },
  {
   "cell_type": "code",
   "execution_count": 17,
   "id": "9da2dbfc",
   "metadata": {},
   "outputs": [
    {
     "data": {
      "text/plain": [
       "0         7\n",
       "1        20\n",
       "2         6\n",
       "3         2\n",
       "4         1\n",
       "         ..\n",
       "10687     5\n",
       "10688    17\n",
       "10689     8\n",
       "10690     8\n",
       "10691     0\n",
       "Name: floor, Length: 10692, dtype: object"
      ]
     },
     "execution_count": 17,
     "metadata": {},
     "output_type": "execute_result"
    }
   ],
   "source": [
    "# replacing the \"-\" with 0\n",
    "Base_Dados['floor'].apply(lambda Registro: 0 if Registro=='-' else Registro)"
   ]
  },
  {
   "cell_type": "code",
   "execution_count": 18,
   "id": "46fee3bc",
   "metadata": {},
   "outputs": [
    {
     "data": {
      "text/html": [
       "<div>\n",
       "<style scoped>\n",
       "    .dataframe tbody tr th:only-of-type {\n",
       "        vertical-align: middle;\n",
       "    }\n",
       "\n",
       "    .dataframe tbody tr th {\n",
       "        vertical-align: top;\n",
       "    }\n",
       "\n",
       "    .dataframe thead th {\n",
       "        text-align: right;\n",
       "    }\n",
       "</style>\n",
       "<table border=\"1\" class=\"dataframe\">\n",
       "  <thead>\n",
       "    <tr style=\"text-align: right;\">\n",
       "      <th></th>\n",
       "      <th>city</th>\n",
       "      <th>area</th>\n",
       "      <th>rooms</th>\n",
       "      <th>bathroom</th>\n",
       "      <th>parking spaces</th>\n",
       "      <th>floor</th>\n",
       "      <th>animal</th>\n",
       "      <th>furniture</th>\n",
       "      <th>hoa (R$)</th>\n",
       "      <th>rent amount (R$)</th>\n",
       "      <th>property tax (R$)</th>\n",
       "    </tr>\n",
       "  </thead>\n",
       "  <tbody>\n",
       "    <tr>\n",
       "      <th>10687</th>\n",
       "      <td>Porto Alegre</td>\n",
       "      <td>63</td>\n",
       "      <td>2</td>\n",
       "      <td>1</td>\n",
       "      <td>1</td>\n",
       "      <td>5</td>\n",
       "      <td>not acept</td>\n",
       "      <td>furnished</td>\n",
       "      <td>402</td>\n",
       "      <td>1478</td>\n",
       "      <td>24</td>\n",
       "    </tr>\n",
       "    <tr>\n",
       "      <th>10688</th>\n",
       "      <td>São Paulo</td>\n",
       "      <td>285</td>\n",
       "      <td>4</td>\n",
       "      <td>4</td>\n",
       "      <td>4</td>\n",
       "      <td>17</td>\n",
       "      <td>acept</td>\n",
       "      <td>not furnished</td>\n",
       "      <td>3100</td>\n",
       "      <td>15000</td>\n",
       "      <td>973</td>\n",
       "    </tr>\n",
       "    <tr>\n",
       "      <th>10689</th>\n",
       "      <td>Rio de Janeiro</td>\n",
       "      <td>70</td>\n",
       "      <td>3</td>\n",
       "      <td>3</td>\n",
       "      <td>0</td>\n",
       "      <td>8</td>\n",
       "      <td>not acept</td>\n",
       "      <td>furnished</td>\n",
       "      <td>980</td>\n",
       "      <td>6000</td>\n",
       "      <td>332</td>\n",
       "    </tr>\n",
       "    <tr>\n",
       "      <th>10690</th>\n",
       "      <td>Rio de Janeiro</td>\n",
       "      <td>120</td>\n",
       "      <td>2</td>\n",
       "      <td>2</td>\n",
       "      <td>2</td>\n",
       "      <td>8</td>\n",
       "      <td>acept</td>\n",
       "      <td>furnished</td>\n",
       "      <td>1585</td>\n",
       "      <td>12000</td>\n",
       "      <td>279</td>\n",
       "    </tr>\n",
       "    <tr>\n",
       "      <th>10691</th>\n",
       "      <td>São Paulo</td>\n",
       "      <td>80</td>\n",
       "      <td>2</td>\n",
       "      <td>1</td>\n",
       "      <td>0</td>\n",
       "      <td>-</td>\n",
       "      <td>acept</td>\n",
       "      <td>not furnished</td>\n",
       "      <td>0</td>\n",
       "      <td>1400</td>\n",
       "      <td>165</td>\n",
       "    </tr>\n",
       "  </tbody>\n",
       "</table>\n",
       "</div>"
      ],
      "text/plain": [
       "                 city  area  rooms  bathroom  parking spaces floor     animal  \\\n",
       "10687    Porto Alegre    63      2         1               1     5  not acept   \n",
       "10688       São Paulo   285      4         4               4    17      acept   \n",
       "10689  Rio de Janeiro    70      3         3               0     8  not acept   \n",
       "10690  Rio de Janeiro   120      2         2               2     8      acept   \n",
       "10691       São Paulo    80      2         1               0     -      acept   \n",
       "\n",
       "           furniture  hoa (R$)  rent amount (R$)  property tax (R$)  \n",
       "10687      furnished       402              1478                 24  \n",
       "10688  not furnished      3100             15000                973  \n",
       "10689      furnished       980              6000                332  \n",
       "10690      furnished      1585             12000                279  \n",
       "10691  not furnished         0              1400                165  "
      ]
     },
     "execution_count": 18,
     "metadata": {},
     "output_type": "execute_result"
    }
   ],
   "source": [
    "Base_Dados.tail()"
   ]
  },
  {
   "cell_type": "code",
   "execution_count": 19,
   "id": "d1c8b40c",
   "metadata": {},
   "outputs": [],
   "source": [
    "Base_Dados['floor']= Base_Dados['floor'].apply(lambda Registro: 0 if Registro=='-' else Registro)"
   ]
  },
  {
   "cell_type": "code",
   "execution_count": 20,
   "id": "6a560f9b",
   "metadata": {},
   "outputs": [
    {
     "data": {
      "text/plain": [
       "city                 object\n",
       "area                  int64\n",
       "rooms                 int64\n",
       "bathroom              int64\n",
       "parking spaces        int64\n",
       "floor                object\n",
       "animal               object\n",
       "furniture            object\n",
       "hoa (R$)              int64\n",
       "rent amount (R$)      int64\n",
       "property tax (R$)     int64\n",
       "dtype: object"
      ]
     },
     "execution_count": 20,
     "metadata": {},
     "output_type": "execute_result"
    }
   ],
   "source": [
    "Base_Dados.dtypes"
   ]
  },
  {
   "cell_type": "code",
   "execution_count": 21,
   "id": "0d1910ae",
   "metadata": {},
   "outputs": [
    {
     "data": {
      "text/plain": [
       "0         7\n",
       "1        20\n",
       "2         6\n",
       "3         2\n",
       "4         1\n",
       "         ..\n",
       "10687     5\n",
       "10688    17\n",
       "10689     8\n",
       "10690     8\n",
       "10691     0\n",
       "Name: floor, Length: 10692, dtype: int64"
      ]
     },
     "execution_count": 21,
     "metadata": {},
     "output_type": "execute_result"
    }
   ],
   "source": [
    "pd.to_numeric(Base_Dados['floor'])"
   ]
  },
  {
   "cell_type": "code",
   "execution_count": 22,
   "id": "ea632411",
   "metadata": {},
   "outputs": [],
   "source": [
    "Base_Dados['floor'] = pd.to_numeric(Base_Dados['floor'])"
   ]
  },
  {
   "cell_type": "code",
   "execution_count": 23,
   "id": "622ca71a",
   "metadata": {},
   "outputs": [
    {
     "data": {
      "text/html": [
       "<div>\n",
       "<style scoped>\n",
       "    .dataframe tbody tr th:only-of-type {\n",
       "        vertical-align: middle;\n",
       "    }\n",
       "\n",
       "    .dataframe tbody tr th {\n",
       "        vertical-align: top;\n",
       "    }\n",
       "\n",
       "    .dataframe thead th {\n",
       "        text-align: right;\n",
       "    }\n",
       "</style>\n",
       "<table border=\"1\" class=\"dataframe\">\n",
       "  <thead>\n",
       "    <tr style=\"text-align: right;\">\n",
       "      <th></th>\n",
       "      <th>city</th>\n",
       "      <th>area</th>\n",
       "      <th>rooms</th>\n",
       "      <th>bathroom</th>\n",
       "      <th>parking spaces</th>\n",
       "      <th>floor</th>\n",
       "      <th>animal</th>\n",
       "      <th>furniture</th>\n",
       "      <th>hoa (R$)</th>\n",
       "      <th>rent amount (R$)</th>\n",
       "      <th>property tax (R$)</th>\n",
       "    </tr>\n",
       "  </thead>\n",
       "  <tbody>\n",
       "    <tr>\n",
       "      <th>0</th>\n",
       "      <td>São Paulo</td>\n",
       "      <td>70</td>\n",
       "      <td>2</td>\n",
       "      <td>1</td>\n",
       "      <td>1</td>\n",
       "      <td>7</td>\n",
       "      <td>acept</td>\n",
       "      <td>furnished</td>\n",
       "      <td>2065</td>\n",
       "      <td>3300</td>\n",
       "      <td>211</td>\n",
       "    </tr>\n",
       "    <tr>\n",
       "      <th>1</th>\n",
       "      <td>São Paulo</td>\n",
       "      <td>320</td>\n",
       "      <td>4</td>\n",
       "      <td>4</td>\n",
       "      <td>0</td>\n",
       "      <td>20</td>\n",
       "      <td>acept</td>\n",
       "      <td>not furnished</td>\n",
       "      <td>1200</td>\n",
       "      <td>4960</td>\n",
       "      <td>1750</td>\n",
       "    </tr>\n",
       "    <tr>\n",
       "      <th>2</th>\n",
       "      <td>Porto Alegre</td>\n",
       "      <td>80</td>\n",
       "      <td>1</td>\n",
       "      <td>1</td>\n",
       "      <td>1</td>\n",
       "      <td>6</td>\n",
       "      <td>acept</td>\n",
       "      <td>not furnished</td>\n",
       "      <td>1000</td>\n",
       "      <td>2800</td>\n",
       "      <td>0</td>\n",
       "    </tr>\n",
       "    <tr>\n",
       "      <th>3</th>\n",
       "      <td>Porto Alegre</td>\n",
       "      <td>51</td>\n",
       "      <td>2</td>\n",
       "      <td>1</td>\n",
       "      <td>0</td>\n",
       "      <td>2</td>\n",
       "      <td>acept</td>\n",
       "      <td>not furnished</td>\n",
       "      <td>270</td>\n",
       "      <td>1112</td>\n",
       "      <td>22</td>\n",
       "    </tr>\n",
       "    <tr>\n",
       "      <th>4</th>\n",
       "      <td>São Paulo</td>\n",
       "      <td>25</td>\n",
       "      <td>1</td>\n",
       "      <td>1</td>\n",
       "      <td>0</td>\n",
       "      <td>1</td>\n",
       "      <td>not acept</td>\n",
       "      <td>not furnished</td>\n",
       "      <td>0</td>\n",
       "      <td>800</td>\n",
       "      <td>25</td>\n",
       "    </tr>\n",
       "  </tbody>\n",
       "</table>\n",
       "</div>"
      ],
      "text/plain": [
       "           city  area  rooms  bathroom  parking spaces  floor     animal  \\\n",
       "0     São Paulo    70      2         1               1      7      acept   \n",
       "1     São Paulo   320      4         4               0     20      acept   \n",
       "2  Porto Alegre    80      1         1               1      6      acept   \n",
       "3  Porto Alegre    51      2         1               0      2      acept   \n",
       "4     São Paulo    25      1         1               0      1  not acept   \n",
       "\n",
       "       furniture  hoa (R$)  rent amount (R$)  property tax (R$)  \n",
       "0      furnished      2065              3300                211  \n",
       "1  not furnished      1200              4960               1750  \n",
       "2  not furnished      1000              2800                  0  \n",
       "3  not furnished       270              1112                 22  \n",
       "4  not furnished         0               800                 25  "
      ]
     },
     "execution_count": 23,
     "metadata": {},
     "output_type": "execute_result"
    }
   ],
   "source": [
    "Base_Dados.head()"
   ]
  },
  {
   "cell_type": "code",
   "execution_count": 24,
   "id": "32cfbd12",
   "metadata": {},
   "outputs": [
    {
     "data": {
      "text/plain": [
       "7"
      ]
     },
     "execution_count": 24,
     "metadata": {},
     "output_type": "execute_result"
    }
   ],
   "source": [
    "len( Numerical_columns )"
   ]
  },
  {
   "cell_type": "code",
   "execution_count": 25,
   "id": "bbbda702",
   "metadata": {},
   "outputs": [
    {
     "data": {
      "text/plain": [
       "0     23.017209\n",
       "1     10.110363\n",
       "2      9.212495\n",
       "3      8.707445\n",
       "4      6.995885\n",
       "5      5.611672\n",
       "6      5.041152\n",
       "7      4.648335\n",
       "8      4.582866\n",
       "9      3.451178\n",
       "10     3.338945\n",
       "11     2.833895\n",
       "12     2.403666\n",
       "13     1.870557\n",
       "14     1.589974\n",
       "15     1.374860\n",
       "16     1.019454\n",
       "17     0.897868\n",
       "18     0.701459\n",
       "19     0.495698\n",
       "20     0.411523\n",
       "21     0.392817\n",
       "25     0.233820\n",
       "23     0.233820\n",
       "22     0.224467\n",
       "26     0.187056\n",
       "24     0.177703\n",
       "27     0.074822\n",
       "28     0.056117\n",
       "29     0.046764\n",
       "32     0.018706\n",
       "35     0.009353\n",
       "46     0.009353\n",
       "30     0.009353\n",
       "51     0.009353\n",
       "Name: floor, dtype: float64"
      ]
     },
     "execution_count": 25,
     "metadata": {},
     "output_type": "execute_result"
    }
   ],
   "source": [
    "Base_Dados['floor'].value_counts(normalize=True)*100"
   ]
  },
  {
   "cell_type": "markdown",
   "id": "9681327d",
   "metadata": {},
   "source": [
    "### Visualizing the data"
   ]
  },
  {
   "cell_type": "code",
   "execution_count": 26,
   "id": "18b467f7",
   "metadata": {},
   "outputs": [
    {
     "data": {
      "image/png": "[encoded data removed]",
      "text/plain": [
       "<Figure size 2000x3000 with 14 Axes>"
      ]
     },
     "metadata": {},
     "output_type": "display_data"
    }
   ],
   "source": [
    "# Grid - Gráficos\n",
    "\n",
    "# Tamanho\n",
    "Figura, Eixo = plt.subplots( figsize=(20, 30) )\n",
    "\n",
    "# Cor de fundo\n",
    "Cor_Fundo = '#f5f5f5'\n",
    "Figura.set_facecolor( Cor_Fundo )\n",
    "\n",
    "# Paleta de Cores\n",
    "Paleta_Cores = sns.color_palette( 'flare', len(Numerical_columns) * 2 )\n",
    "\n",
    "# Titulo\n",
    "plt.suptitle('Análise das Variaveis Numericas', fontsize=22, color='#404040', fontweight=600 )\n",
    "\n",
    "# Estrutura\n",
    "Linhas = 7 # (Todas as infos numericas)\n",
    "Colunas = 2 #( Boxplot - Distplot)\n",
    "Posicao = 1 # Posicao inicial do grid\n",
    "\n",
    "# Loop para plotar os gráficos\n",
    "for Coluna in Numerical_columns:\n",
    "\n",
    "  # Plot no Grid -- Boxplot\n",
    "  plt.subplot( Linhas, Colunas, Posicao )\n",
    "\n",
    "  # Titulo\n",
    "  plt.title( f'{Coluna}', loc='left', fontsize=14, fontweight=200 )\n",
    "\n",
    "  # Plot\n",
    "  sns.boxplot( data=Base_Dados, y=Coluna, showmeans=True, saturation=0.75, \n",
    "              linewidth=1, color=Paleta_Cores[Posicao], width=0.25 )\n",
    "\n",
    "  # Mudar\n",
    "  Posicao += 1\n",
    "\n",
    "  # Plot no Grid -- Distplot\n",
    "  plt.subplot( Linhas, Colunas, Posicao )\n",
    "\n",
    "  # Titulo\n",
    "  plt.title( f'{Coluna}', loc='left', fontsize=14, fontweight=200 )\n",
    "\n",
    "  # Plot\n",
    "  sns.distplot( Base_Dados[Coluna], color=Paleta_Cores[ Posicao - 1 ] )\n",
    "\n",
    "  # Mudar\n",
    "  Posicao += 1\n",
    "\n",
    "# Ajute de Grid\n",
    "plt.subplots_adjust( top=0.95, hspace=0.3 )"
   ]
  },
  {
   "cell_type": "markdown",
   "id": "185755fd",
   "metadata": {},
   "source": [
    "### EDA"
   ]
  },
  {
   "cell_type": "code",
   "execution_count": 27,
   "id": "6501074b",
   "metadata": {},
   "outputs": [
    {
     "data": {
      "text/plain": [
       "count    10683.000000\n",
       "mean       140.638865\n",
       "std        129.829151\n",
       "min         11.000000\n",
       "25%         56.000000\n",
       "50%         90.000000\n",
       "75%        181.500000\n",
       "max       1000.000000\n",
       "Name: area, dtype: float64"
      ]
     },
     "execution_count": 27,
     "metadata": {},
     "output_type": "execute_result"
    }
   ],
   "source": [
    "Base_Dados.loc[Base_Dados['area'] <= 1000]['area'].describe()"
   ]
  },
  {
   "cell_type": "code",
   "execution_count": 28,
   "id": "cd9945b8",
   "metadata": {},
   "outputs": [
    {
     "data": {
      "text/plain": [
       "count    7486.000000\n",
       "mean      355.200775\n",
       "std       313.241291\n",
       "min         0.000000\n",
       "25%         0.000000\n",
       "50%       350.000000\n",
       "75%       600.000000\n",
       "max      1000.000000\n",
       "Name: hoa (R$), dtype: float64"
      ]
     },
     "execution_count": 28,
     "metadata": {},
     "output_type": "execute_result"
    }
   ],
   "source": [
    "Base_Dados.loc[Base_Dados['hoa (R$)'] <= 1000]['hoa (R$)'].describe()"
   ]
  },
  {
   "cell_type": "code",
   "execution_count": 29,
   "id": "e96120bd",
   "metadata": {},
   "outputs": [
    {
     "data": {
      "text/plain": [
       "255     1117000\n",
       "6979    1117000\n",
       "6230     220000\n",
       "2859     200000\n",
       "2928      81150\n",
       "1444      32000\n",
       "1213      15000\n",
       "415       14130\n",
       "5293      14000\n",
       "8858      10000\n",
       "Name: hoa (R$), dtype: int64"
      ]
     },
     "execution_count": 29,
     "metadata": {},
     "output_type": "execute_result"
    }
   ],
   "source": [
    "Base_Dados['hoa (R$)'].sort_values(ascending=False).head(10)"
   ]
  },
  {
   "cell_type": "code",
   "execution_count": 30,
   "id": "04b30bb4",
   "metadata": {},
   "outputs": [
    {
     "data": {
      "text/plain": [
       "city                 Belo Horizonte\n",
       "area                            155\n",
       "rooms                             1\n",
       "bathroom                          4\n",
       "parking spaces                    0\n",
       "floor                             4\n",
       "animal                    not acept\n",
       "furniture             not furnished\n",
       "hoa (R$)                    1117000\n",
       "rent amount (R$)               2790\n",
       "property tax (R$)                64\n",
       "Name: 255, dtype: object"
      ]
     },
     "execution_count": 30,
     "metadata": {},
     "output_type": "execute_result"
    }
   ],
   "source": [
    "Base_Dados.iloc[255]"
   ]
  },
  {
   "cell_type": "code",
   "execution_count": 31,
   "id": "082a3c4a",
   "metadata": {},
   "outputs": [
    {
     "data": {
      "text/plain": [
       "city                 Belo Horizonte\n",
       "area                            155\n",
       "rooms                             1\n",
       "bathroom                          4\n",
       "parking spaces                    0\n",
       "floor                             4\n",
       "animal                    not acept\n",
       "furniture             not furnished\n",
       "hoa (R$)                    1117000\n",
       "rent amount (R$)               2790\n",
       "property tax (R$)                64\n",
       "Name: 6979, dtype: object"
      ]
     },
     "execution_count": 31,
     "metadata": {},
     "output_type": "execute_result"
    }
   ],
   "source": [
    "Base_Dados.iloc[6979]"
   ]
  },
  {
   "cell_type": "code",
   "execution_count": 32,
   "id": "c189988c",
   "metadata": {},
   "outputs": [
    {
     "data": {
      "text/plain": [
       "city                     São Paulo\n",
       "area                           340\n",
       "rooms                            5\n",
       "bathroom                         4\n",
       "parking spaces                   2\n",
       "floor                            7\n",
       "animal                       acept\n",
       "furniture            not furnished\n",
       "hoa (R$)                    220000\n",
       "rent amount (R$)             12000\n",
       "property tax (R$)             1000\n",
       "Name: 6230, dtype: object"
      ]
     },
     "execution_count": 32,
     "metadata": {},
     "output_type": "execute_result"
    }
   ],
   "source": [
    "Base_Dados.iloc[6230]"
   ]
  },
  {
   "cell_type": "code",
   "execution_count": 33,
   "id": "0b14f418",
   "metadata": {},
   "outputs": [
    {
     "data": {
      "text/plain": [
       "city                 São Paulo\n",
       "area                       285\n",
       "rooms                        4\n",
       "bathroom                     5\n",
       "parking spaces               4\n",
       "floor                        6\n",
       "animal                   acept\n",
       "furniture            furnished\n",
       "hoa (R$)                200000\n",
       "rent amount (R$)         20000\n",
       "property tax (R$)         1834\n",
       "Name: 2859, dtype: object"
      ]
     },
     "execution_count": 33,
     "metadata": {},
     "output_type": "execute_result"
    }
   ],
   "source": [
    "Base_Dados.iloc[2859]"
   ]
  },
  {
   "cell_type": "code",
   "execution_count": 34,
   "id": "3867c806",
   "metadata": {},
   "outputs": [
    {
     "data": {
      "text/plain": [
       "city                 Rio de Janeiro\n",
       "area                             35\n",
       "rooms                             1\n",
       "bathroom                          1\n",
       "parking spaces                    0\n",
       "floor                             1\n",
       "animal                        acept\n",
       "furniture                 furnished\n",
       "hoa (R$)                      81150\n",
       "rent amount (R$)               4500\n",
       "property tax (R$)              9900\n",
       "Name: 2928, dtype: object"
      ]
     },
     "execution_count": 34,
     "metadata": {},
     "output_type": "execute_result"
    }
   ],
   "source": [
    "Base_Dados.iloc[2928]"
   ]
  },
  {
   "cell_type": "code",
   "execution_count": 35,
   "id": "d5024db7",
   "metadata": {},
   "outputs": [
    {
     "data": {
      "text/plain": [
       "count    10692.000000\n",
       "mean      3896.247194\n",
       "std       3408.545518\n",
       "min        450.000000\n",
       "25%       1530.000000\n",
       "50%       2661.000000\n",
       "75%       5000.000000\n",
       "max      45000.000000\n",
       "Name: rent amount (R$), dtype: float64"
      ]
     },
     "execution_count": 35,
     "metadata": {},
     "output_type": "execute_result"
    }
   ],
   "source": [
    "Base_Dados['rent amount (R$)'].describe()"
   ]
  },
  {
   "cell_type": "code",
   "execution_count": 36,
   "id": "323f6dbe",
   "metadata": {},
   "outputs": [
    {
     "data": {
      "text/plain": [
       "2182    45000\n",
       "7748    30000\n",
       "6947    25000\n",
       "2619    24000\n",
       "1743    20000\n",
       "2859    20000\n",
       "1253    20000\n",
       "5525    20000\n",
       "157     20000\n",
       "6185    19500\n",
       "Name: rent amount (R$), dtype: int64"
      ]
     },
     "execution_count": 36,
     "metadata": {},
     "output_type": "execute_result"
    }
   ],
   "source": [
    "Base_Dados['rent amount (R$)'].sort_values(ascending=False).head(10)"
   ]
  },
  {
   "cell_type": "code",
   "execution_count": 37,
   "id": "0a790712",
   "metadata": {},
   "outputs": [
    {
     "data": {
      "text/plain": [
       "count    10679.000000\n",
       "mean      3873.225489\n",
       "std       3336.503210\n",
       "min        450.000000\n",
       "25%       1528.500000\n",
       "50%       2650.000000\n",
       "75%       5000.000000\n",
       "max      15000.000000\n",
       "Name: rent amount (R$), dtype: float64"
      ]
     },
     "execution_count": 37,
     "metadata": {},
     "output_type": "execute_result"
    }
   ],
   "source": [
    "Base_Dados.loc[Base_Dados['rent amount (R$)'] <= 15000]['rent amount (R$)'].describe()"
   ]
  },
  {
   "cell_type": "code",
   "execution_count": 38,
   "id": "4c3d527a",
   "metadata": {},
   "outputs": [
    {
     "data": {
      "text/plain": [
       "6645     313700\n",
       "6243      28120\n",
       "1699      21880\n",
       "10172     12500\n",
       "5331      10830\n",
       "2928       9900\n",
       "7674       9500\n",
       "19         9500\n",
       "8187       8750\n",
       "2182       8750\n",
       "Name: property tax (R$), dtype: int64"
      ]
     },
     "execution_count": 38,
     "metadata": {},
     "output_type": "execute_result"
    }
   ],
   "source": [
    "Base_Dados['property tax (R$)'].sort_values(ascending=False).head(10)"
   ]
  },
  {
   "cell_type": "code",
   "execution_count": 39,
   "id": "6ff6422e",
   "metadata": {},
   "outputs": [
    {
     "data": {
      "text/plain": [
       "city                     São Paulo\n",
       "area                            42\n",
       "rooms                            1\n",
       "bathroom                         2\n",
       "parking spaces                   1\n",
       "floor                            6\n",
       "animal                   not acept\n",
       "furniture            not furnished\n",
       "hoa (R$)                       690\n",
       "rent amount (R$)              2500\n",
       "property tax (R$)           313700\n",
       "Name: 6645, dtype: object"
      ]
     },
     "execution_count": 39,
     "metadata": {},
     "output_type": "execute_result"
    }
   ],
   "source": [
    "Base_Dados.iloc[6645] # analisando o apartamento de 42m com IPTU de 300000 reais (provavelmente erro de input)"
   ]
  },
  {
   "cell_type": "markdown",
   "id": "54bb521b",
   "metadata": {},
   "source": [
    "### Feature engineering (definindo as variáveis a considerar no modelo)"
   ]
  },
  {
   "cell_type": "code",
   "execution_count": 40,
   "id": "e331e91f",
   "metadata": {},
   "outputs": [],
   "source": [
    "# Ajustando as variáveis categóricas\n",
    "Base_Dados['animal'] = Base_Dados['animal'].map({'acept':1,'not acept':0})\n",
    "Base_Dados['furniture'] = Base_Dados['furniture'].map({'furnished':1,'not furnished':0})"
   ]
  },
  {
   "cell_type": "code",
   "execution_count": 41,
   "id": "e878f751",
   "metadata": {},
   "outputs": [],
   "source": [
    "#selecionando a cidade São Paulo\n",
    "Filtro_SP = Base_Dados.loc[Base_Dados['city']=='São Paulo']"
   ]
  },
  {
   "cell_type": "code",
   "execution_count": 42,
   "id": "b6afb334",
   "metadata": {},
   "outputs": [
    {
     "data": {
      "text/html": [
       "<div>\n",
       "<style scoped>\n",
       "    .dataframe tbody tr th:only-of-type {\n",
       "        vertical-align: middle;\n",
       "    }\n",
       "\n",
       "    .dataframe tbody tr th {\n",
       "        vertical-align: top;\n",
       "    }\n",
       "\n",
       "    .dataframe thead th {\n",
       "        text-align: right;\n",
       "    }\n",
       "</style>\n",
       "<table border=\"1\" class=\"dataframe\">\n",
       "  <thead>\n",
       "    <tr style=\"text-align: right;\">\n",
       "      <th></th>\n",
       "      <th>city</th>\n",
       "      <th>area</th>\n",
       "      <th>rooms</th>\n",
       "      <th>bathroom</th>\n",
       "      <th>parking spaces</th>\n",
       "      <th>floor</th>\n",
       "      <th>animal</th>\n",
       "      <th>furniture</th>\n",
       "      <th>hoa (R$)</th>\n",
       "      <th>rent amount (R$)</th>\n",
       "      <th>property tax (R$)</th>\n",
       "    </tr>\n",
       "  </thead>\n",
       "  <tbody>\n",
       "    <tr>\n",
       "      <th>0</th>\n",
       "      <td>São Paulo</td>\n",
       "      <td>70</td>\n",
       "      <td>2</td>\n",
       "      <td>1</td>\n",
       "      <td>1</td>\n",
       "      <td>7</td>\n",
       "      <td>1</td>\n",
       "      <td>1</td>\n",
       "      <td>2065</td>\n",
       "      <td>3300</td>\n",
       "      <td>211</td>\n",
       "    </tr>\n",
       "    <tr>\n",
       "      <th>1</th>\n",
       "      <td>São Paulo</td>\n",
       "      <td>320</td>\n",
       "      <td>4</td>\n",
       "      <td>4</td>\n",
       "      <td>0</td>\n",
       "      <td>20</td>\n",
       "      <td>1</td>\n",
       "      <td>0</td>\n",
       "      <td>1200</td>\n",
       "      <td>4960</td>\n",
       "      <td>1750</td>\n",
       "    </tr>\n",
       "    <tr>\n",
       "      <th>4</th>\n",
       "      <td>São Paulo</td>\n",
       "      <td>25</td>\n",
       "      <td>1</td>\n",
       "      <td>1</td>\n",
       "      <td>0</td>\n",
       "      <td>1</td>\n",
       "      <td>0</td>\n",
       "      <td>0</td>\n",
       "      <td>0</td>\n",
       "      <td>800</td>\n",
       "      <td>25</td>\n",
       "    </tr>\n",
       "    <tr>\n",
       "      <th>5</th>\n",
       "      <td>São Paulo</td>\n",
       "      <td>376</td>\n",
       "      <td>3</td>\n",
       "      <td>3</td>\n",
       "      <td>7</td>\n",
       "      <td>0</td>\n",
       "      <td>1</td>\n",
       "      <td>0</td>\n",
       "      <td>0</td>\n",
       "      <td>8000</td>\n",
       "      <td>834</td>\n",
       "    </tr>\n",
       "    <tr>\n",
       "      <th>7</th>\n",
       "      <td>São Paulo</td>\n",
       "      <td>213</td>\n",
       "      <td>4</td>\n",
       "      <td>4</td>\n",
       "      <td>4</td>\n",
       "      <td>4</td>\n",
       "      <td>1</td>\n",
       "      <td>0</td>\n",
       "      <td>2254</td>\n",
       "      <td>3223</td>\n",
       "      <td>1735</td>\n",
       "    </tr>\n",
       "  </tbody>\n",
       "</table>\n",
       "</div>"
      ],
      "text/plain": [
       "        city  area  rooms  bathroom  parking spaces  floor  animal  furniture  \\\n",
       "0  São Paulo    70      2         1               1      7       1          1   \n",
       "1  São Paulo   320      4         4               0     20       1          0   \n",
       "4  São Paulo    25      1         1               0      1       0          0   \n",
       "5  São Paulo   376      3         3               7      0       1          0   \n",
       "7  São Paulo   213      4         4               4      4       1          0   \n",
       "\n",
       "   hoa (R$)  rent amount (R$)  property tax (R$)  \n",
       "0      2065              3300                211  \n",
       "1      1200              4960               1750  \n",
       "4         0               800                 25  \n",
       "5         0              8000                834  \n",
       "7      2254              3223               1735  "
      ]
     },
     "execution_count": 42,
     "metadata": {},
     "output_type": "execute_result"
    }
   ],
   "source": [
    "Filtro_SP.head()"
   ]
  },
  {
   "cell_type": "code",
   "execution_count": 43,
   "id": "52be3e36",
   "metadata": {},
   "outputs": [],
   "source": [
    "#removendo coluna city\n",
    "Filtro_SP.drop( columns=['city'], inplace=True)"
   ]
  },
  {
   "cell_type": "code",
   "execution_count": 44,
   "id": "61b607c8",
   "metadata": {},
   "outputs": [],
   "source": [
    "# definindo variáveis de características e variável alvo\n",
    "Caracteristicas = Filtro_SP.drop(columns=['rent amount (R$)'])\n",
    "Previsor = Filtro_SP['rent amount (R$)']"
   ]
  },
  {
   "cell_type": "code",
   "execution_count": 45,
   "id": "4de2560a",
   "metadata": {},
   "outputs": [
    {
     "data": {
      "text/plain": [
       "((5887, 9), (5887,))"
      ]
     },
     "execution_count": 45,
     "metadata": {},
     "output_type": "execute_result"
    }
   ],
   "source": [
    "Caracteristicas.shape, Previsor.shape"
   ]
  },
  {
   "cell_type": "code",
   "execution_count": 46,
   "id": "4ef6e913",
   "metadata": {},
   "outputs": [
    {
     "data": {
      "text/plain": [
       "0    3300\n",
       "1    4960\n",
       "4     800\n",
       "5    8000\n",
       "7    3223\n",
       "Name: rent amount (R$), dtype: int64"
      ]
     },
     "execution_count": 46,
     "metadata": {},
     "output_type": "execute_result"
    }
   ],
   "source": [
    "Previsor.head()"
   ]
  },
  {
   "cell_type": "code",
   "execution_count": 47,
   "id": "b169485c",
   "metadata": {},
   "outputs": [
    {
     "data": {
      "text/html": [
       "<div>\n",
       "<style scoped>\n",
       "    .dataframe tbody tr th:only-of-type {\n",
       "        vertical-align: middle;\n",
       "    }\n",
       "\n",
       "    .dataframe tbody tr th {\n",
       "        vertical-align: top;\n",
       "    }\n",
       "\n",
       "    .dataframe thead th {\n",
       "        text-align: right;\n",
       "    }\n",
       "</style>\n",
       "<table border=\"1\" class=\"dataframe\">\n",
       "  <thead>\n",
       "    <tr style=\"text-align: right;\">\n",
       "      <th></th>\n",
       "      <th>area</th>\n",
       "      <th>rooms</th>\n",
       "      <th>bathroom</th>\n",
       "      <th>parking spaces</th>\n",
       "      <th>floor</th>\n",
       "      <th>animal</th>\n",
       "      <th>furniture</th>\n",
       "      <th>hoa (R$)</th>\n",
       "      <th>property tax (R$)</th>\n",
       "    </tr>\n",
       "  </thead>\n",
       "  <tbody>\n",
       "    <tr>\n",
       "      <th>0</th>\n",
       "      <td>70</td>\n",
       "      <td>2</td>\n",
       "      <td>1</td>\n",
       "      <td>1</td>\n",
       "      <td>7</td>\n",
       "      <td>1</td>\n",
       "      <td>1</td>\n",
       "      <td>2065</td>\n",
       "      <td>211</td>\n",
       "    </tr>\n",
       "    <tr>\n",
       "      <th>1</th>\n",
       "      <td>320</td>\n",
       "      <td>4</td>\n",
       "      <td>4</td>\n",
       "      <td>0</td>\n",
       "      <td>20</td>\n",
       "      <td>1</td>\n",
       "      <td>0</td>\n",
       "      <td>1200</td>\n",
       "      <td>1750</td>\n",
       "    </tr>\n",
       "    <tr>\n",
       "      <th>4</th>\n",
       "      <td>25</td>\n",
       "      <td>1</td>\n",
       "      <td>1</td>\n",
       "      <td>0</td>\n",
       "      <td>1</td>\n",
       "      <td>0</td>\n",
       "      <td>0</td>\n",
       "      <td>0</td>\n",
       "      <td>25</td>\n",
       "    </tr>\n",
       "    <tr>\n",
       "      <th>5</th>\n",
       "      <td>376</td>\n",
       "      <td>3</td>\n",
       "      <td>3</td>\n",
       "      <td>7</td>\n",
       "      <td>0</td>\n",
       "      <td>1</td>\n",
       "      <td>0</td>\n",
       "      <td>0</td>\n",
       "      <td>834</td>\n",
       "    </tr>\n",
       "    <tr>\n",
       "      <th>7</th>\n",
       "      <td>213</td>\n",
       "      <td>4</td>\n",
       "      <td>4</td>\n",
       "      <td>4</td>\n",
       "      <td>4</td>\n",
       "      <td>1</td>\n",
       "      <td>0</td>\n",
       "      <td>2254</td>\n",
       "      <td>1735</td>\n",
       "    </tr>\n",
       "  </tbody>\n",
       "</table>\n",
       "</div>"
      ],
      "text/plain": [
       "   area  rooms  bathroom  parking spaces  floor  animal  furniture  hoa (R$)  \\\n",
       "0    70      2         1               1      7       1          1      2065   \n",
       "1   320      4         4               0     20       1          0      1200   \n",
       "4    25      1         1               0      1       0          0         0   \n",
       "5   376      3         3               7      0       1          0         0   \n",
       "7   213      4         4               4      4       1          0      2254   \n",
       "\n",
       "   property tax (R$)  \n",
       "0                211  \n",
       "1               1750  \n",
       "4                 25  \n",
       "5                834  \n",
       "7               1735  "
      ]
     },
     "execution_count": 47,
     "metadata": {},
     "output_type": "execute_result"
    }
   ],
   "source": [
    "Caracteristicas.head()"
   ]
  },
  {
   "cell_type": "code",
   "execution_count": 48,
   "id": "51918c28",
   "metadata": {},
   "outputs": [
    {
     "data": {
      "text/html": [
       "<div>\n",
       "<style scoped>\n",
       "    .dataframe tbody tr th:only-of-type {\n",
       "        vertical-align: middle;\n",
       "    }\n",
       "\n",
       "    .dataframe tbody tr th {\n",
       "        vertical-align: top;\n",
       "    }\n",
       "\n",
       "    .dataframe thead th {\n",
       "        text-align: right;\n",
       "    }\n",
       "</style>\n",
       "<table border=\"1\" class=\"dataframe\">\n",
       "  <thead>\n",
       "    <tr style=\"text-align: right;\">\n",
       "      <th></th>\n",
       "      <th>area</th>\n",
       "      <th>rooms</th>\n",
       "      <th>bathroom</th>\n",
       "      <th>parking spaces</th>\n",
       "      <th>floor</th>\n",
       "      <th>animal</th>\n",
       "      <th>furniture</th>\n",
       "      <th>hoa (R$)</th>\n",
       "      <th>rent amount (R$)</th>\n",
       "      <th>property tax (R$)</th>\n",
       "    </tr>\n",
       "  </thead>\n",
       "  <tbody>\n",
       "    <tr>\n",
       "      <th>area</th>\n",
       "      <td>1.000000</td>\n",
       "      <td>0.306863</td>\n",
       "      <td>0.316543</td>\n",
       "      <td>0.300795</td>\n",
       "      <td>-0.038790</td>\n",
       "      <td>0.073565</td>\n",
       "      <td>-0.018145</td>\n",
       "      <td>0.056091</td>\n",
       "      <td>0.274749</td>\n",
       "      <td>0.065289</td>\n",
       "    </tr>\n",
       "    <tr>\n",
       "      <th>rooms</th>\n",
       "      <td>0.306863</td>\n",
       "      <td>1.000000</td>\n",
       "      <td>0.759432</td>\n",
       "      <td>0.645041</td>\n",
       "      <td>-0.092117</td>\n",
       "      <td>0.213963</td>\n",
       "      <td>-0.088931</td>\n",
       "      <td>0.136343</td>\n",
       "      <td>0.537622</td>\n",
       "      <td>0.071702</td>\n",
       "    </tr>\n",
       "    <tr>\n",
       "      <th>bathroom</th>\n",
       "      <td>0.316543</td>\n",
       "      <td>0.759432</td>\n",
       "      <td>1.000000</td>\n",
       "      <td>0.703530</td>\n",
       "      <td>-0.015503</td>\n",
       "      <td>0.159097</td>\n",
       "      <td>0.005864</td>\n",
       "      <td>0.163205</td>\n",
       "      <td>0.638924</td>\n",
       "      <td>0.101616</td>\n",
       "    </tr>\n",
       "    <tr>\n",
       "      <th>parking spaces</th>\n",
       "      <td>0.300795</td>\n",
       "      <td>0.645041</td>\n",
       "      <td>0.703530</td>\n",
       "      <td>1.000000</td>\n",
       "      <td>-0.038378</td>\n",
       "      <td>0.165253</td>\n",
       "      <td>-0.015155</td>\n",
       "      <td>0.115951</td>\n",
       "      <td>0.573373</td>\n",
       "      <td>0.092362</td>\n",
       "    </tr>\n",
       "    <tr>\n",
       "      <th>floor</th>\n",
       "      <td>-0.038790</td>\n",
       "      <td>-0.092117</td>\n",
       "      <td>-0.015503</td>\n",
       "      <td>-0.038378</td>\n",
       "      <td>1.000000</td>\n",
       "      <td>-0.014202</td>\n",
       "      <td>0.135180</td>\n",
       "      <td>0.107211</td>\n",
       "      <td>0.065294</td>\n",
       "      <td>0.005672</td>\n",
       "    </tr>\n",
       "    <tr>\n",
       "      <th>animal</th>\n",
       "      <td>0.073565</td>\n",
       "      <td>0.213963</td>\n",
       "      <td>0.159097</td>\n",
       "      <td>0.165253</td>\n",
       "      <td>-0.014202</td>\n",
       "      <td>1.000000</td>\n",
       "      <td>-0.066208</td>\n",
       "      <td>0.020575</td>\n",
       "      <td>0.107147</td>\n",
       "      <td>-0.005308</td>\n",
       "    </tr>\n",
       "    <tr>\n",
       "      <th>furniture</th>\n",
       "      <td>-0.018145</td>\n",
       "      <td>-0.088931</td>\n",
       "      <td>0.005864</td>\n",
       "      <td>-0.015155</td>\n",
       "      <td>0.135180</td>\n",
       "      <td>-0.066208</td>\n",
       "      <td>1.000000</td>\n",
       "      <td>0.042860</td>\n",
       "      <td>0.154316</td>\n",
       "      <td>-0.007852</td>\n",
       "    </tr>\n",
       "    <tr>\n",
       "      <th>hoa (R$)</th>\n",
       "      <td>0.056091</td>\n",
       "      <td>0.136343</td>\n",
       "      <td>0.163205</td>\n",
       "      <td>0.115951</td>\n",
       "      <td>0.107211</td>\n",
       "      <td>0.020575</td>\n",
       "      <td>0.042860</td>\n",
       "      <td>1.000000</td>\n",
       "      <td>0.188147</td>\n",
       "      <td>0.028872</td>\n",
       "    </tr>\n",
       "    <tr>\n",
       "      <th>rent amount (R$)</th>\n",
       "      <td>0.274749</td>\n",
       "      <td>0.537622</td>\n",
       "      <td>0.638924</td>\n",
       "      <td>0.573373</td>\n",
       "      <td>0.065294</td>\n",
       "      <td>0.107147</td>\n",
       "      <td>0.154316</td>\n",
       "      <td>0.188147</td>\n",
       "      <td>1.000000</td>\n",
       "      <td>0.091749</td>\n",
       "    </tr>\n",
       "    <tr>\n",
       "      <th>property tax (R$)</th>\n",
       "      <td>0.065289</td>\n",
       "      <td>0.071702</td>\n",
       "      <td>0.101616</td>\n",
       "      <td>0.092362</td>\n",
       "      <td>0.005672</td>\n",
       "      <td>-0.005308</td>\n",
       "      <td>-0.007852</td>\n",
       "      <td>0.028872</td>\n",
       "      <td>0.091749</td>\n",
       "      <td>1.000000</td>\n",
       "    </tr>\n",
       "  </tbody>\n",
       "</table>\n",
       "</div>"
      ],
      "text/plain": [
       "                       area     rooms  bathroom  parking spaces     floor  \\\n",
       "area               1.000000  0.306863  0.316543        0.300795 -0.038790   \n",
       "rooms              0.306863  1.000000  0.759432        0.645041 -0.092117   \n",
       "bathroom           0.316543  0.759432  1.000000        0.703530 -0.015503   \n",
       "parking spaces     0.300795  0.645041  0.703530        1.000000 -0.038378   \n",
       "floor             -0.038790 -0.092117 -0.015503       -0.038378  1.000000   \n",
       "animal             0.073565  0.213963  0.159097        0.165253 -0.014202   \n",
       "furniture         -0.018145 -0.088931  0.005864       -0.015155  0.135180   \n",
       "hoa (R$)           0.056091  0.136343  0.163205        0.115951  0.107211   \n",
       "rent amount (R$)   0.274749  0.537622  0.638924        0.573373  0.065294   \n",
       "property tax (R$)  0.065289  0.071702  0.101616        0.092362  0.005672   \n",
       "\n",
       "                     animal  furniture  hoa (R$)  rent amount (R$)  \\\n",
       "area               0.073565  -0.018145  0.056091          0.274749   \n",
       "rooms              0.213963  -0.088931  0.136343          0.537622   \n",
       "bathroom           0.159097   0.005864  0.163205          0.638924   \n",
       "parking spaces     0.165253  -0.015155  0.115951          0.573373   \n",
       "floor             -0.014202   0.135180  0.107211          0.065294   \n",
       "animal             1.000000  -0.066208  0.020575          0.107147   \n",
       "furniture         -0.066208   1.000000  0.042860          0.154316   \n",
       "hoa (R$)           0.020575   0.042860  1.000000          0.188147   \n",
       "rent amount (R$)   0.107147   0.154316  0.188147          1.000000   \n",
       "property tax (R$) -0.005308  -0.007852  0.028872          0.091749   \n",
       "\n",
       "                   property tax (R$)  \n",
       "area                        0.065289  \n",
       "rooms                       0.071702  \n",
       "bathroom                    0.101616  \n",
       "parking spaces              0.092362  \n",
       "floor                       0.005672  \n",
       "animal                     -0.005308  \n",
       "furniture                  -0.007852  \n",
       "hoa (R$)                    0.028872  \n",
       "rent amount (R$)            0.091749  \n",
       "property tax (R$)           1.000000  "
      ]
     },
     "execution_count": 48,
     "metadata": {},
     "output_type": "execute_result"
    }
   ],
   "source": [
    "# calculando correlação (quanto mais próximo de 1, correlação positiva, se mais proximo -1, correlação negativa)\n",
    "Filtro_SP.corr()"
   ]
  },
  {
   "cell_type": "code",
   "execution_count": 49,
   "id": "fd4f19bd",
   "metadata": {},
   "outputs": [
    {
     "name": "stdout",
     "output_type": "stream",
     "text": [
      "Requirement already satisfied: yellowbrick in c:\\users\\leand\\anaconda3\\lib\\site-packages (1.5)\n",
      "Requirement already satisfied: cycler>=0.10.0 in c:\\users\\leand\\anaconda3\\lib\\site-packages (from yellowbrick) (0.11.0)\n",
      "Requirement already satisfied: numpy>=1.16.0 in c:\\users\\leand\\anaconda3\\lib\\site-packages (from yellowbrick) (1.21.5)\n",
      "Requirement already satisfied: scipy>=1.0.0 in c:\\users\\leand\\anaconda3\\lib\\site-packages (from yellowbrick) (1.7.3)\n",
      "Requirement already satisfied: scikit-learn>=1.0.0 in c:\\users\\leand\\anaconda3\\lib\\site-packages (from yellowbrick) (1.0.2)\n",
      "Requirement already satisfied: matplotlib!=3.0.0,>=2.0.2 in c:\\users\\leand\\anaconda3\\lib\\site-packages (from yellowbrick) (3.5.1)\n",
      "Requirement already satisfied: pillow>=6.2.0 in c:\\users\\leand\\anaconda3\\lib\\site-packages (from matplotlib!=3.0.0,>=2.0.2->yellowbrick) (9.2.0)\n",
      "Requirement already satisfied: pyparsing>=2.2.1 in c:\\users\\leand\\anaconda3\\lib\\site-packages (from matplotlib!=3.0.0,>=2.0.2->yellowbrick) (3.0.9)\n",
      "Requirement already satisfied: python-dateutil>=2.7 in c:\\users\\leand\\anaconda3\\lib\\site-packages (from matplotlib!=3.0.0,>=2.0.2->yellowbrick) (2.8.2)\n",
      "Requirement already satisfied: kiwisolver>=1.0.1 in c:\\users\\leand\\anaconda3\\lib\\site-packages (from matplotlib!=3.0.0,>=2.0.2->yellowbrick) (1.3.2)\n",
      "Requirement already satisfied: packaging>=20.0 in c:\\users\\leand\\anaconda3\\lib\\site-packages (from matplotlib!=3.0.0,>=2.0.2->yellowbrick) (21.3)\n",
      "Requirement already satisfied: fonttools>=4.22.0 in c:\\users\\leand\\anaconda3\\lib\\site-packages (from matplotlib!=3.0.0,>=2.0.2->yellowbrick) (4.25.0)\n",
      "Requirement already satisfied: threadpoolctl>=2.0.0 in c:\\users\\leand\\anaconda3\\lib\\site-packages (from scikit-learn>=1.0.0->yellowbrick) (2.2.0)\n",
      "Requirement already satisfied: joblib>=0.11 in c:\\users\\leand\\anaconda3\\lib\\site-packages (from scikit-learn>=1.0.0->yellowbrick) (1.1.0)\n",
      "Requirement already satisfied: six>=1.5 in c:\\users\\leand\\anaconda3\\lib\\site-packages (from python-dateutil>=2.7->matplotlib!=3.0.0,>=2.0.2->yellowbrick) (1.16.0)\n"
     ]
    }
   ],
   "source": [
    "!pip install yellowbrick"
   ]
  },
  {
   "cell_type": "code",
   "execution_count": 50,
   "id": "1e77bdc5",
   "metadata": {},
   "outputs": [
    {
     "data": {
      "image/png": "[encoded data removed]",
      "text/plain": [
       "<Figure size 800x550 with 2 Axes>"
      ]
     },
     "metadata": {},
     "output_type": "display_data"
    },
    {
     "data": {
      "text/plain": [
       "<AxesSubplot:title={'center':'Pearson Ranking of 9 Features'}>"
      ]
     },
     "execution_count": 50,
     "metadata": {},
     "output_type": "execute_result"
    }
   ],
   "source": [
    "from yellowbrick.features import Rank2D\n",
    "Correlacao = Rank2D( algoritmo = 'pearson')\n",
    "Correlacao.fit(Caracteristicas, Previsor)\n",
    "Correlacao.transform(Caracteristicas)\n",
    "Correlacao.show()"
   ]
  },
  {
   "cell_type": "code",
   "execution_count": 51,
   "id": "73f4496f",
   "metadata": {},
   "outputs": [],
   "source": [
    "# definindo dados de treino e teste\n",
    "from sklearn.model_selection import train_test_split\n",
    "x_treino, x_teste, y_treino, y_teste = train_test_split(Caracteristicas, Previsor, test_size=0.2, random_state=10)"
   ]
  },
  {
   "cell_type": "code",
   "execution_count": 52,
   "id": "dadcbf53",
   "metadata": {},
   "outputs": [
    {
     "name": "stdout",
     "output_type": "stream",
     "text": [
      "Dados de Treino: 4709\n",
      "Dados de Teste: 1178\n"
     ]
    }
   ],
   "source": [
    "print(f'Dados de Treino: {x_treino.shape[0]}')\n",
    "print(f'Dados de Teste: {x_teste.shape[0]}')"
   ]
  },
  {
   "cell_type": "code",
   "execution_count": 53,
   "id": "0998c78e",
   "metadata": {},
   "outputs": [],
   "source": [
    "# identificando as features mais relevantes\n",
    "from sklearn.feature_selection import mutual_info_regression\n",
    "from sklearn.feature_selection import SelectKBest\n"
   ]
  },
  {
   "cell_type": "code",
   "execution_count": 54,
   "id": "dc7dc873",
   "metadata": {},
   "outputs": [
    {
     "name": "stdout",
     "output_type": "stream",
     "text": [
      "area : 0.05510872604251649\n",
      "rooms : 0.25984091724886405\n",
      "bathroom : 0.31044162633296857\n",
      "parking spaces : 0.22978433505061613\n",
      "floor : 0.035594294424035056\n",
      "animal : 0.028826062710463507\n",
      "furniture : 0.029034606266986174\n",
      "hoa (R$) : 0.05245030436021425\n",
      "property tax (R$) : 0.1587523450390944\n"
     ]
    }
   ],
   "source": [
    "# selecionando as features\n",
    "def Selecao_Features (x_treino, y_treino):\n",
    "    #configurar para selecionar as features\n",
    "    Selecao = SelectKBest(score_func=mutual_info_regression, k='all') # pode testar k com 3 por exemplo para mostrar as 3 melhores variaveis que impactam no preço do aluguel\n",
    "    \n",
    "    #treinar\n",
    "    Selecao.fit(x_treino, y_treino)\n",
    "    \n",
    "    return Selecao\n",
    "# aplicando a função\n",
    "Scores = Selecao_Features(x_treino, y_treino)\n",
    "# analisando as funções \n",
    "for Posicao, Score in enumerate(Scores.scores_):\n",
    "    print(f'{x_treino.columns[Posicao]} : {Score}')"
   ]
  },
  {
   "cell_type": "markdown",
   "id": "3bca275d",
   "metadata": {},
   "source": [
    "## Creating the model"
   ]
  },
  {
   "cell_type": "code",
   "execution_count": 55,
   "id": "abea2665",
   "metadata": {},
   "outputs": [
    {
     "data": {
      "text/plain": [
       "RandomForestRegressor(max_depth=5)"
      ]
     },
     "execution_count": 55,
     "metadata": {},
     "output_type": "execute_result"
    }
   ],
   "source": [
    "# random forest regressor\n",
    "from sklearn.ensemble import RandomForestRegressor\n",
    "\n",
    "# instanciando\n",
    "Modelo_floresta = RandomForestRegressor(max_depth=5)\n",
    "#treinando o modelo\n",
    "Modelo_floresta.fit(x_treino, y_treino)\n"
   ]
  },
  {
   "cell_type": "code",
   "execution_count": 63,
   "id": "2b004e4c",
   "metadata": {},
   "outputs": [
    {
     "name": "stdout",
     "output_type": "stream",
     "text": [
      "RMSE: 2466.716825093116\n",
      "Scrore: 0.5596172791764251\n"
     ]
    }
   ],
   "source": [
    "# avaliando a performance\n",
    "Previsoes = Modelo_floresta.predict(x_teste)\n",
    "\n",
    "# função para calcular o erro\n",
    "from sklearn.metrics import mean_squared_error, r2_score\n",
    "from math import sqrt\n",
    "\n",
    "# avaliando o modelo\n",
    "print(f'RMSE: {sqrt(mean_squared_error(y_teste, Previsoes))}')\n",
    "print(f'Scrore: {r2_score(y_teste,Previsoes)}')\n"
   ]
  },
  {
   "cell_type": "code",
   "execution_count": 64,
   "id": "039d17b0",
   "metadata": {},
   "outputs": [
    {
     "data": {
      "image/png": "[encoded data removed]",
      "text/plain": [
       "<Figure size 800x550 with 1 Axes>"
      ]
     },
     "metadata": {},
     "output_type": "display_data"
    },
    {
     "data": {
      "text/plain": [
       "<AxesSubplot:title={'center':'Prediction Error for RandomForestRegressor'}, xlabel='$y$', ylabel='$\\\\hat{y}$'>"
      ]
     },
     "execution_count": 64,
     "metadata": {},
     "output_type": "execute_result"
    }
   ],
   "source": [
    "# avaliando com yellowbrick\n",
    "from yellowbrick.regressor import PredictionError\n",
    "\n",
    "#instanciar\n",
    "Modelo= RandomForestRegressor(max_depth=5)\n",
    "Erro_modelo = PredictionError(Modelo)\n",
    "\n",
    "#treinando\n",
    "Erro_modelo.fit(x_treino,y_treino)\n",
    "Erro_modelo.score(x_teste,y_teste)\n",
    "Erro_modelo.show()\n"
   ]
  },
  {
   "cell_type": "code",
   "execution_count": null,
   "id": "053ac7c9",
   "metadata": {},
   "outputs": [],
   "source": [
    "# next train using other parameters"
   ]
  }
 ],
 "metadata": {
  "kernelspec": {
   "display_name": "Python 3 (ipykernel)",
   "language": "python",
   "name": "python3"
  },
  "language_info": {
   "codemirror_mode": {
    "name": "ipython",
    "version": 3
   },
   "file_extension": ".py",
   "mimetype": "text/x-python",
   "name": "python",
   "nbconvert_exporter": "python",
   "pygments_lexer": "ipython3",
   "version": "3.9.12"
  }
 },
 "nbformat": 4,
 "nbformat_minor": 5
}
